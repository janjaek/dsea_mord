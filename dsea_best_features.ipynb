{
 "cells": [
  {
   "cell_type": "code",
   "execution_count": 3,
   "metadata": {},
   "outputs": [],
   "source": [
    "import pandas as pd\n",
    "import numpy as np\n",
    "from cherenkovdeconvolution import util\n",
    "from mord import LogisticAT\n",
    "from cherenkovdeconvolution import dsea\n",
    "from sklearn.tree import ExtraTreeClassifier\n",
    "from matplotlib import pyplot as plt\n",
    "from sklearn.preprocessing import power_transform\n",
    "import cherenkovdeconvolution.stepsize as stepsize\n",
    "from sklearn.ensemble import RandomForestClassifier\n",
    "df=pd.read_csv('sample.csv', nrows=500000)\n",
    "X = df[['SplineMPEDirectHitsICE.n_dir_doms',\n",
    "        'VariousVariables.Cone_Angle',\n",
    "        'SplineMPECramerRaoParams.variance_theta',\n",
    "        'Borderness.Q_ratio_in_border',\n",
    "        'SplineMPETruncatedEnergy_SPICEMie_BINS_MuEres.value',\n",
    "        'SplineMPETruncatedEnergy_SPICEMie_DOMS_Neutrino.energy', \n",
    "        'SplineMPEDirectHitsICB.n_late_doms',\n",
    "        'Dustyness.n_doms_in_dust',\n",
    "        'LineFitGeoSplit1Params.n_hits',\n",
    "        'SplineMPEDirectHitsICC.dir_track_hit_distribution_smoothness',\n",
    "        'SPEFit2GeoSplit1BayesianFitParams.logl',\n",
    "        'SplineMPECharacteristicsIC.avg_dom_dist_q_tot_dom']]\n",
    "Y = df['MCPrimary.energy']"
   ]
  },
  {
   "cell_type": "code",
   "execution_count": 4,
   "metadata": {},
   "outputs": [
    {
     "data": {
      "text/plain": [
       "array([2.5592e-01, 3.6756e-01, 2.1952e-01, 9.6880e-02, 3.8640e-02,\n",
       "       1.4100e-02, 4.6800e-03, 1.6600e-03, 6.8000e-04, 2.4000e-04,\n",
       "       8.0000e-05, 4.0000e-05])"
      ]
     },
     "execution_count": 4,
     "metadata": {},
     "output_type": "execute_result"
    }
   ],
   "source": [
    "binning_E = np.logspace(np.log10(Y.min()-10),\n",
    "np.log10(Y.max()+100), 13)    # creating 12 bins for the energy \n",
    "#Binning overflow & underflow manually\n",
    "#overflow = 1e10\n",
    "#bins_over = np.append(binning_E,overflow)\n",
    "#binning_E = bins_over\n",
    "\n",
    "Y = np.digitize(Y, binning_E)  \n",
    "\n",
    "Y = Y - 1\n",
    "\n",
    "bin_1=[i for i in binning_E[:-1]]\n",
    "bin_2=[i for i in binning_E[1:]]\n",
    "bin_centers = np.mean([bin_1, bin_2], axis=0)\n",
    "n_test = int(len(df)/10)\n",
    "\n",
    "X_train = X.iloc[n_test:]#splitting the dataframe\n",
    "Y_train = Y[n_test:]\n",
    "\n",
    "X_test = X.iloc[:n_test]\n",
    "Y_test = Y[:n_test]\n",
    "\n",
    "f_true = util.fit_pdf(Y_test) \n",
    "f_true\n"
   ]
  },
  {
   "cell_type": "code",
   "execution_count": 7,
   "metadata": {},
   "outputs": [],
   "source": [
    "#logistic AT with decaying stepsize\n",
    "def inspect_alpha(k, alpha, chi2s, f):\n",
    "    print(alpha)\n",
    "\n",
    "\n",
    "alpha_mul = stepsize.decay_mul(0.5)\n",
    "f_AT_mul = dsea(X_test, X_train, Y_train, LogisticAT(), K = 7, inspect = inspect_alpha, alpha = alpha_mul)\n",
    "print('Chi square distance between f_est and f_true: {}'.format(util.chi2s(f_AT_mul, f_true)))"
   ]
  },
  {
   "cell_type": "code",
   "execution_count": 3,
   "metadata": {},
   "outputs": [
    {
     "data": {
      "image/png": "[encoded data removed]",
      "text/plain": [
       "<Figure size 432x288 with 1 Axes>"
      ]
     },
     "metadata": {
      "needs_background": "light"
     },
     "output_type": "display_data"
    }
   ],
   "source": [
    "f_AT_mul =([5.23479943e-01, 1.78399880e-02, 2.05062784e-01, 1.83690549e-02,\n",
    "       1.71428375e-01, 5.26188668e-02, 5.45257357e-03, 2.29334111e-03,\n",
    "       5.13059360e-04, 2.85618523e-03, 4.32283994e-05, 4.26008326e-05])\n",
    "plt.hist(bin_centers, bins = binning_E, weights = f_true, alpha = 0.5,label ='f_true')\n",
    "plt.hist(bin_centers, bins = binning_E, weights = f_AT_mul, alpha = 0.5,histtype = 'step',label='f_AT')\n",
    "plt.gca().set_xscale('log')\n",
    "plt.yscale('log')\n",
    "plt.xlabel('Energy[GeV]')\n",
    "plt.ylabel('Normalized Number of Events')\n",
    "plt.legend(loc='best')\n",
    "plt.savefig('untransformed_LAT.pdf')"
   ]
  },
  {
   "cell_type": "code",
   "execution_count": 5,
   "metadata": {},
   "outputs": [
    {
     "data": {
      "text/plain": [
       "array([5.23479943e-01, 1.78399880e-02, 2.05062784e-01, 1.83690549e-02,\n",
       "       1.71428375e-01, 5.26188668e-02, 5.45257357e-03, 2.29334111e-03,\n",
       "       5.13059360e-04, 2.85618523e-03, 4.32283994e-05, 4.26008326e-05])"
      ]
     },
     "execution_count": 5,
     "metadata": {},
     "output_type": "execute_result"
    }
   ],
   "source": [
    "f_AT_mul"
   ]
  },
  {
   "cell_type": "code",
   "execution_count": 7,
   "metadata": {},
   "outputs": [],
   "source": [
    "#Yeo-Johnson-Transformation\n",
    "X_box= power_transform(X, method='yeo-johnson')    \n",
    "X_btrain = X_box[n_test:]#splitting the dataframe\n",
    "X_btest = X_box[:n_test]\n"
   ]
  },
  {
   "cell_type": "code",
   "execution_count": 8,
   "metadata": {},
   "outputs": [],
   "source": [
    "#logistic AT with decaying stepsize(transformed data)\n",
    "def inspect_alpha(k, alpha, chi2s, f):\n",
    "    print(alpha)\n",
    "\n",
    "\n",
    "alpha_mul = stepsize.decay_mul(0.5)\n",
    "f_AT_mul, contr = dsea(X_btest, X_btrain, Y_train, LogisticAT(), K = 7, inspect = inspect_alpha, alpha = alpha_mul,return_contributions = True)\n",
    "print('Chi square distance between f_est and f_true: {}'.format(util.chi2s(f_AT_mul, f_true)))"
   ]
  },
  {
   "cell_type": "code",
   "execution_count": 4,
   "metadata": {},
   "outputs": [
    {
     "data": {
      "image/png": "[encoded data removed]",
      "text/plain": [
       "<Figure size 432x288 with 1 Axes>"
      ]
     },
     "metadata": {
      "needs_background": "light"
     },
     "output_type": "display_data"
    }
   ],
   "source": [
    "f_AT_mul=([3.02732911e-01, 2.71298607e-01, 1.98476011e-01, 1.19748156e-01,\n",
    "       6.09226564e-02, 2.70453497e-02, 1.12621793e-02, 4.75032649e-03,\n",
    "       2.09163987e-03, 9.69053205e-04, 4.70934228e-04, 2.32175901e-04])\n",
    "plt.hist(bin_centers, bins = binning_E, weights = f_true, alpha = 0.5,label ='f_true')\n",
    "plt.hist(bin_centers, bins = binning_E, weights = f_AT_mul, alpha = 0.5,histtype = 'step',label='f_AT_mul')\n",
    "plt.gca().set_xscale('log')\n",
    "plt.yscale('log')\n",
    "plt.xlabel('Energy[GeV]')\n",
    "plt.ylabel('Normalized Number of Events')\n",
    "plt.legend(loc='best')\n",
    "plt.savefig('transformed_LAT.pdf')"
   ]
  },
  {
   "cell_type": "code",
   "execution_count": 9,
   "metadata": {},
   "outputs": [
    {
     "data": {
      "text/plain": [
       "array([3.02732911e-01, 2.71298607e-01, 1.98476011e-01, 1.19748156e-01,\n",
       "       6.09226564e-02, 2.70453497e-02, 1.12621793e-02, 4.75032649e-03,\n",
       "       2.09163987e-03, 9.69053205e-04, 4.70934228e-04, 2.32175901e-04])"
      ]
     },
     "execution_count": 9,
     "metadata": {},
     "output_type": "execute_result"
    }
   ],
   "source": [
    "f_AT_mul"
   ]
  },
  {
   "cell_type": "code",
   "execution_count": 6,
   "metadata": {},
   "outputs": [
    {
     "data": {
      "image/png": "[encoded data removed]",
      "text/plain": [
       "<Figure size 432x288 with 9 Axes>"
      ]
     },
     "metadata": {
      "needs_background": "light"
     },
     "output_type": "display_data"
    }
   ],
   "source": [
    "#stepsize selection"
   ]
  },
  {
   "cell_type": "code",
   "execution_count": 14,
   "metadata": {},
   "outputs": [],
   "source": [
    "def inspect_alpha(k, alpha, chi2s, f):\n",
    "    print(alpha)\n",
    "    \n",
    "alpha_exp = stepsize.decay_exp(0.5, 2.0)\n",
    "f_AT_exp = dsea(X_btest, X_btrain, Y_train, LogisticAT(), K = 7, inspect = inspect_alpha,  alpha = alpha_exp)"
   ]
  },
  {
   "cell_type": "code",
   "execution_count": 5,
   "metadata": {},
   "outputs": [
    {
     "data": {
      "text/plain": [
       "[0.23521018,\n",
       " 0.23869404,\n",
       " 0.09848941,\n",
       " 0.03544797,\n",
       " 0.01289194,\n",
       " 0.00452991,\n",
       " 0.00164207,\n",
       " 0.05506606,\n",
       " 0.20868728,\n",
       " 0.06741491,\n",
       " 0.02843098,\n",
       " 0.01349524]"
      ]
     },
     "execution_count": 5,
     "metadata": {},
     "output_type": "execute_result"
    },
    {
     "data": {
      "image/png": "[encoded data removed]",
      "text/plain": [
       "<Figure size 432x288 with 1 Axes>"
      ]
     },
     "metadata": {
      "needs_background": "light"
     },
     "output_type": "display_data"
    }
   ],
   "source": [
    "f_AT_exp = ([0.23521018, 0.23869404, 0.09848941, 0.03544797, 0.01289194,\n",
    "       0.00452991, 0.00164207, 0.05506606, 0.20868728, 0.06741491,\n",
    "       0.02843098, 0.01349524])\n",
    "plt.hist(bin_centers, bins = binning_E, weights = f_true, alpha = 0.5,label ='f_true')\n",
    "plt.hist(bin_centers, bins = binning_E, weights = f_AT_exp, alpha = 0.5,histtype = 'step',label='f_AT_exp')\n",
    "plt.gca().set_xscale('log')\n",
    "plt.yscale('log')\n",
    "plt.xlabel('Energy[GeV]')\n",
    "plt.ylabel('Normalized Number of Events')\n",
    "plt.legend(loc='best')\n",
    "plt.savefig('LAT_exp.pdf')\n",
    "f_AT_exp"
   ]
  },
  {
   "cell_type": "code",
   "execution_count": 6,
   "metadata": {},
   "outputs": [
    {
     "data": {
      "text/plain": [
       "[0.30201219,\n",
       " 0.2639576,\n",
       " 0.19094897,\n",
       " 0.11687106,\n",
       " 0.06241026,\n",
       " 0.0305649,\n",
       " 0.0148694,\n",
       " 0.00774736,\n",
       " 0.00445495,\n",
       " 0.00281654,\n",
       " 0.00192916,\n",
       " 0.0014176]"
      ]
     },
     "execution_count": 6,
     "metadata": {},
     "output_type": "execute_result"
    },
    {
     "data": {
      "image/png": "[encoded data removed]",
      "text/plain": [
       "<Figure size 432x288 with 1 Axes>"
      ]
     },
     "metadata": {
      "needs_background": "light"
     },
     "output_type": "display_data"
    }
   ],
   "source": [
    "#f_AT_const = dsea(X_btest, X_btrain, Y_train, LogisticAT(), K = 7, inspect = inspect_alpha,  alpha = 0.5)\n",
    "f_AT_const = ([0.30201219, 0.2639576 , 0.19094897, 0.11687106, 0.06241026,\n",
    "       0.0305649 , 0.0148694 , 0.00774736, 0.00445495, 0.00281654,\n",
    "       0.00192916, 0.0014176 ])\n",
    "plt.hist(bin_centers, bins = binning_E, weights = f_true, alpha = 0.5,label ='f_true')\n",
    "plt.hist(bin_centers, bins = binning_E, weights = f_AT_const, alpha = 0.5,histtype = 'step',label='f_AT-const')\n",
    "plt.gca().set_xscale('log')\n",
    "plt.yscale('log')\n",
    "plt.xlabel('Energy[GeV]')\n",
    "plt.ylabel('Normalized Number of Events')\n",
    "plt.legend(loc='best')\n",
    "plt.savefig('LAT_const.pdf')\n",
    "f_AT_const"
   ]
  },
  {
   "cell_type": "code",
   "execution_count": 17,
   "metadata": {},
   "outputs": [
    {
     "name": "stdout",
     "output_type": "stream",
     "text": [
      "Chi square distance between f_est and f_true: 0.10704864103832071\n",
      "Chi square distance between f_est and f_true: 0.9745812352396451\n"
     ]
    }
   ],
   "source": [
    "print('Chi square distance between f_est and f_true: {}'.format(util.chi2s(f_AT_const, f_true)))\n",
    "print('Chi square distance between f_est and f_true: {}'.format(util.chi2s(f_AT_exp, f_true)))"
   ]
  },
  {
   "cell_type": "code",
   "execution_count": 16,
   "metadata": {},
   "outputs": [],
   "source": [
    "#testing if iteration number changes results\n",
    "def inspect_alpha(k, alpha, chi2s, f):\n",
    "    print(alpha)\n",
    "\n",
    "\n",
    "alpha_mul = stepsize.decay_mul(0.5)\n",
    "f_AT_mul = dsea(X_btest, X_btrain, Y_train, LogisticAT(), K = 10, inspect = inspect_alpha, alpha = alpha_mul)\n",
    "print('Chi square distance between f_est and f_true: {}'.format(util.chi2s(f_AT_mul, f_true)))"
   ]
  },
  {
   "cell_type": "code",
   "execution_count": 7,
   "metadata": {},
   "outputs": [
    {
     "data": {
      "image/png": "[encoded data removed]",
      "text/plain": [
       "<Figure size 432x288 with 1 Axes>"
      ]
     },
     "metadata": {
      "needs_background": "light"
     },
     "output_type": "display_data"
    }
   ],
   "source": [
    "f_AT_mul = ([3.02054497e-01, 2.84016647e-01, 2.06155001e-01, 1.17298054e-01,\n",
    "       5.46042942e-02, 2.19654845e-02, 8.36555372e-03, 3.25544463e-03,\n",
    "       1.32545428e-03, 5.72695147e-04, 2.62736563e-04, 1.24136418e-04])\n",
    "plt.hist(bin_centers, bins = binning_E, weights = f_true, alpha = 0.5,label ='f_true')\n",
    "plt.hist(bin_centers, bins = binning_E, weights = f_AT_mul, alpha = 0.5,histtype = 'step',label='f_AT')\n",
    "plt.gca().set_xscale('log')\n",
    "plt.yscale('log')\n",
    "plt.xlabel('Energy[GeV]')\n",
    "plt.ylabel('Normalized Number of Events')\n",
    "plt.legend(loc='best')\n",
    "plt.savefig(\"logisticAT10it.pdf\")"
   ]
  },
  {
   "cell_type": "code",
   "execution_count": 17,
   "metadata": {},
   "outputs": [],
   "source": [
    "#testing 15 iterations\n",
    "def inspect_alpha(k, alpha, chi2s, f):\n",
    "    print(alpha)\n",
    "\n",
    "\n",
    "alpha_mul = stepsize.decay_mul(0.5)\n",
    "f_AT_mul = dsea(X_btest, X_btrain, Y_train, LogisticAT(), K = 15, inspect = inspect_alpha, alpha = alpha_mul)\n",
    "print('Chi square distance between f_est and f_true: {}'.format(util.chi2s(f_AT_mul, f_true)))"
   ]
  },
  {
   "cell_type": "code",
   "execution_count": 8,
   "metadata": {},
   "outputs": [
    {
     "data": {
      "image/png": "[encoded data removed]",
      "text/plain": [
       "<Figure size 432x288 with 1 Axes>"
      ]
     },
     "metadata": {
      "needs_background": "light"
     },
     "output_type": "display_data"
    }
   ],
   "source": [
    "f_AT_mul = ([2.96959482e-01, 2.96779374e-01, 2.14528172e-01, 1.14718422e-01,\n",
    "       4.88840480e-02, 1.80063917e-02, 6.38040372e-03, 2.30921492e-03,\n",
    "       8.65744936e-04, 3.47614271e-04, 1.50485267e-04, 7.06476923e-05])\n",
    "plt.hist(bin_centers, bins = binning_E, weights = f_true, alpha = 0.5,label ='f_true')\n",
    "plt.hist(bin_centers, bins = binning_E, weights = f_AT_mul, alpha = 0.5,histtype = 'step',label='f_AT')\n",
    "plt.gca().set_xscale('log')\n",
    "plt.yscale('log')\n",
    "plt.xlabel('Energy[GeV]')\n",
    "plt.ylabel('Normalized Number of Events')\n",
    "plt.legend(loc='best')\n",
    "plt.savefig(\"logisticAT15it.pdf\")"
   ]
  },
  {
   "cell_type": "code",
   "execution_count": 19,
   "metadata": {},
   "outputs": [],
   "source": [
    "#testing 20 iterations\n",
    "def inspect_alpha(k, alpha, chi2s, f):\n",
    "    print(alpha)\n",
    "\n",
    "\n",
    "alpha_mul = stepsize.decay_mul(0.5)\n",
    "f_AT_mul = dsea(X_btest, X_btrain, Y_train, LogisticAT(), K = 20, inspect = inspect_alpha, alpha = alpha_mul)\n",
    "print('Chi square distance between f_est and f_true: {}'.format(util.chi2s(f_AT_mul, f_true)))"
   ]
  },
  {
   "cell_type": "code",
   "execution_count": 9,
   "metadata": {},
   "outputs": [
    {
     "data": {
      "image/png": "[encoded data removed]",
      "text/plain": [
       "<Figure size 432x288 with 1 Axes>"
      ]
     },
     "metadata": {
      "needs_background": "light"
     },
     "output_type": "display_data"
    }
   ],
   "source": [
    "f_AT_mul = ([2.91851945e-01, 3.04844898e-01, 2.19959889e-01, 1.12921670e-01,\n",
    "       4.56819632e-02, 1.61202433e-02, 5.55424703e-03, 1.93899828e-03,\n",
    "       6.90545994e-04, 2.66310810e-04, 1.12966882e-04, 5.63230722e-05])\n",
    "plt.hist(bin_centers, bins = binning_E, weights = f_true, alpha = 0.5,label ='f_true')\n",
    "plt.hist(bin_centers, bins = binning_E, weights = f_AT_mul, alpha = 0.5,histtype = 'step',label='f_AT')\n",
    "plt.gca().set_xscale('log')\n",
    "plt.yscale('log')\n",
    "plt.xlabel('Energy[GeV]')\n",
    "plt.ylabel('Normalized Number of Events')\n",
    "plt.legend(loc='best')\n",
    "plt.savefig(\"logisticAT20it.pdf\")"
   ]
  },
  {
   "cell_type": "code",
   "execution_count": 8,
   "metadata": {},
   "outputs": [
    {
     "name": "stdout",
     "output_type": "stream",
     "text": [
      "0\n",
      "1\n",
      "2\n",
      "3\n",
      "4\n",
      "5\n",
      "6\n",
      "7\n",
      "8\n",
      "9\n",
      "10\n",
      "11\n",
      "12\n",
      "13\n",
      "14\n",
      "15\n",
      "16\n",
      "17\n",
      "18\n",
      "19\n",
      "20\n",
      "21\n",
      "22\n",
      "23\n",
      "24\n",
      "25\n",
      "26\n",
      "27\n",
      "28\n",
      "29\n",
      "30\n"
     ]
    },
    {
     "data": {
      "text/plain": [
       "array([2.84134527e-01, 3.14991506e-01, 2.26472064e-01, 1.10276381e-01,\n",
       "       4.21792677e-02, 1.44224257e-02, 4.93589048e-03, 1.67341218e-03,\n",
       "       5.60406534e-04, 2.08508722e-04, 9.06780825e-05, 5.49326398e-05])"
      ]
     },
     "execution_count": 8,
     "metadata": {},
     "output_type": "execute_result"
    }
   ],
   "source": [
    "#testing even more iterations(30)\n",
    "def inspect_alpha(k, alpha, chi2s, f):\n",
    "    print(alpha)\n",
    "\n",
    "\n",
    "alpha_mul = stepsize.decay_mul(0.5)\n",
    "f_AT_mul, contr = dsea(X_btest, X_btrain, Y_train, LogisticAT(), K = 30, inspect = inspect_alpha, alpha = alpha_mul, return_contributions = True)\n",
    "f_AT_mul"
   ]
  },
  {
   "cell_type": "code",
   "execution_count": 9,
   "metadata": {},
   "outputs": [
    {
     "name": "stdout",
     "output_type": "stream",
     "text": [
      "Chi square distance between f_est and f_true: 0.013359360577625682\n"
     ]
    },
    {
     "data": {
      "image/png": "[encoded data removed]",
      "text/plain": [
       "<Figure size 432x288 with 1 Axes>"
      ]
     },
     "metadata": {
      "needs_background": "light"
     },
     "output_type": "display_data"
    }
   ],
   "source": [
    "#f_AT_mul =[2.84134527e-01, 3.14991506e-01, 2.26472064e-01, 1.10276381e-01,\n",
    "#       4.21792677e-02, 1.44224257e-02, 4.93589048e-03, 1.67341218e-03,\n",
    "#       5.60406534e-04, 2.08508722e-04, 9.06780825e-05, 5.49326398e-05]\n",
    "print('Chi square distance between f_est and f_true: {}'.format(util.chi2s(f_AT_mul, f_true)))\n",
    "plt.hist(bin_centers, bins = binning_E, weights = f_true, alpha = 0.5,label ='f_true')\n",
    "plt.hist(bin_centers, bins = binning_E, weights = f_AT_mul, alpha = 0.5,histtype = 'step',label='f_AT')\n",
    "plt.gca().set_xscale('log')\n",
    "plt.yscale('log')\n",
    "plt.xlabel('Energy[GeV]')\n",
    "plt.ylabel('Normalized Number of Events')\n",
    "plt.legend(loc='best')\n",
    "plt.savefig(\"logisticAT30it.pdf\")"
   ]
  },
  {
   "cell_type": "code",
   "execution_count": 10,
   "metadata": {},
   "outputs": [
    {
     "name": "stdout",
     "output_type": "stream",
     "text": [
      "0\n",
      "1\n",
      "2\n",
      "3\n",
      "4\n",
      "5\n",
      "6\n",
      "7\n",
      "8\n",
      "9\n",
      "10\n",
      "11\n",
      "12\n",
      "13\n",
      "14\n",
      "15\n",
      "16\n",
      "17\n",
      "18\n",
      "19\n",
      "20\n",
      "21\n",
      "22\n",
      "23\n",
      "24\n",
      "25\n",
      "26\n",
      "27\n",
      "28\n",
      "29\n",
      "30\n"
     ]
    }
   ],
   "source": [
    "#Random Forrest with transformed data(30 iterations)\n",
    "def inspect_alpha(k, alpha, chi2s, f):\n",
    "    print(alpha)\n",
    "\n",
    "\n",
    "alpha_mul = stepsize.decay_mul(0.5)\n",
    "f_RF_mul, contr_rf = dsea(X_btest, X_btrain, Y_train, RandomForestClassifier(), K = 30, inspect = inspect_alpha, alpha = alpha_mul, return_contributions = True)\n"
   ]
  },
  {
   "cell_type": "code",
   "execution_count": 11,
   "metadata": {},
   "outputs": [
    {
     "name": "stdout",
     "output_type": "stream",
     "text": [
      "Chi square distance between f_est and f_true: 0.00045722006022999476\n"
     ]
    },
    {
     "data": {
      "image/png": "[encoded data removed]",
      "text/plain": [
       "<Figure size 432x288 with 1 Axes>"
      ]
     },
     "metadata": {
      "needs_background": "light"
     },
     "output_type": "display_data"
    }
   ],
   "source": [
    "#f_RF_mul=[2.51935417e-01, 3.65409209e-01, 2.19064617e-01, 1.00211902e-01,\n",
    "#       4.03958012e-02, 1.47860358e-02, 5.43439568e-03, 1.78624042e-03,\n",
    "#       6.85137401e-04, 1.84547894e-04, 9.16101038e-05, 1.50866480e-05]\n",
    "print('Chi square distance between f_est and f_true: {}'.format(util.chi2s(f_RF_mul, f_true)))\n",
    "plt.hist(bin_centers, bins = binning_E[0:13], weights = f_true, alpha = 0.5,label ='f_true')\n",
    "plt.hist(bin_centers, bins = binning_E[0:13], weights = f_RF_mul, alpha = 0.5,histtype = 'step',label='Random Forest with transformed data')\n",
    "plt.gca().set_xscale('log')\n",
    "plt.yscale('log')\n",
    "plt.xlabel('Energy[GeV]')\n",
    "plt.ylabel('Normalized Number of Events')\n",
    "plt.legend(loc='best')\n",
    "plt.savefig(\"rf30.pdf\")\n"
   ]
  },
  {
   "cell_type": "code",
   "execution_count": 12,
   "metadata": {},
   "outputs": [],
   "source": [
    "def rate_contr(contr):\n",
    "    rating=0\n",
    "    indices=[]\n",
    "    contr_1st=contr.argsort()[:,-1]#returns indices of the highest value\n",
    "    contr_2nd=contr.argsort()[:,-2]#return indices of the 2nd highest value\n",
    "    \n",
    "    contr_gap=contr_1st-contr_2nd#array of distances between the highest and 2nd highest bin\n",
    "    for i in range(len(contr)):\n",
    "        if contr_gap[i]>2:\n",
    "            rating=rating+1\n",
    "            indices.append(i)\n",
    "        elif contr_gap[i]<(-2):\n",
    "            rating=rating+1\n",
    "            indices.append(i)\n",
    "            \n",
    "    return rating, indices   \n"
   ]
  },
  {
   "cell_type": "code",
   "execution_count": 13,
   "metadata": {},
   "outputs": [
    {
     "data": {
      "text/plain": [
       "12"
      ]
     },
     "execution_count": 13,
     "metadata": {},
     "output_type": "execute_result"
    }
   ],
   "source": [
    "x_3,y_3=rate_contr(contr_rf)\n",
    "x_3"
   ]
  },
  {
   "cell_type": "code",
   "execution_count": 2,
   "metadata": {},
   "outputs": [
    {
     "ename": "NameError",
     "evalue": "name 'plt' is not defined",
     "output_type": "error",
     "traceback": [
      "\u001b[0;31m---------------------------------------------------------------------------\u001b[0m",
      "\u001b[0;31mNameError\u001b[0m                                 Traceback (most recent call last)",
      "\u001b[0;32m<ipython-input-2-fcbdc194dec8>\u001b[0m in \u001b[0;36m<module>\u001b[0;34m\u001b[0m\n\u001b[0;32m----> 1\u001b[0;31m \u001b[0mfig\u001b[0m\u001b[0;34m,\u001b[0m \u001b[0maxs\u001b[0m \u001b[0;34m=\u001b[0m \u001b[0mplt\u001b[0m\u001b[0;34m.\u001b[0m\u001b[0msubplots\u001b[0m\u001b[0;34m(\u001b[0m\u001b[0;36m3\u001b[0m\u001b[0;34m,\u001b[0m \u001b[0;36m3\u001b[0m\u001b[0;34m)\u001b[0m\u001b[0;34m\u001b[0m\u001b[0;34m\u001b[0m\u001b[0m\n\u001b[0m\u001b[1;32m      2\u001b[0m \u001b[0;34m\u001b[0m\u001b[0m\n\u001b[1;32m      3\u001b[0m \u001b[0;34m\u001b[0m\u001b[0m\n\u001b[1;32m      4\u001b[0m \u001b[0maxs\u001b[0m\u001b[0;34m[\u001b[0m\u001b[0;36m0\u001b[0m\u001b[0;34m,\u001b[0m\u001b[0;36m0\u001b[0m\u001b[0;34m]\u001b[0m\u001b[0;34m.\u001b[0m\u001b[0mhist\u001b[0m\u001b[0;34m(\u001b[0m\u001b[0mbin_centers\u001b[0m\u001b[0;34m,\u001b[0m \u001b[0mbins\u001b[0m \u001b[0;34m=\u001b[0m \u001b[0mbinning_E\u001b[0m\u001b[0;34m,\u001b[0m \u001b[0mweights\u001b[0m \u001b[0;34m=\u001b[0m \u001b[0mcontr\u001b[0m\u001b[0;34m[\u001b[0m\u001b[0;36m1\u001b[0m\u001b[0;34m]\u001b[0m\u001b[0;34m,\u001b[0m \u001b[0malpha\u001b[0m \u001b[0;34m=\u001b[0m \u001b[0;36m0.5\u001b[0m\u001b[0;34m,\u001b[0m \u001b[0mhisttype\u001b[0m \u001b[0;34m=\u001b[0m \u001b[0;34m'step'\u001b[0m\u001b[0;34m)\u001b[0m\u001b[0;34m\u001b[0m\u001b[0;34m\u001b[0m\u001b[0m\n\u001b[1;32m      5\u001b[0m \u001b[0;31m#axs[0,0].set_title('Bin# of MC-truth'.format(Y[1]))\u001b[0m\u001b[0;34m\u001b[0m\u001b[0;34m\u001b[0m\u001b[0;34m\u001b[0m\u001b[0m\n",
      "\u001b[0;31mNameError\u001b[0m: name 'plt' is not defined"
     ]
    }
   ],
   "source": [
    "fig, axs = plt.subplots(3, 3)\n",
    "\n",
    "\n",
    "axs[0,0].hist(bin_centers, bins = binning_E, weights = contr[1], alpha = 0.5, histtype = 'step')\n",
    "#axs[0,0].set_title('Bin# of MC-truth'.format(Y[1]))\n",
    "#axs[0,0].gca().set_xscale('log')\n",
    "axs[0,0].set_xscale('log')\n",
    "axs[0,0].set_yscale('log')\n",
    "#axs[0,0].set_xlabel('Energy/GeV')\n",
    "axs[1,0].hist(bin_centers, bins = binning_E, weights = contr[2], alpha = 0.5, histtype = 'step', label= 'Event Number:2')\n",
    "#axs[1,0].set_title('Bin# of MC-truth'.format(Y[2]))\n",
    "axs[1,0].set_xscale('log')\n",
    "axs[1,0].set_yscale('log')\n",
    "axs[1,0].set_ylabel('Probability')\n",
    "\n",
    "axs[0,1].hist(bin_centers, bins = binning_E, weights = contr[3], alpha = 0.5, histtype = 'step', label= 'Event Number:3')\n",
    "#axs[0,1].set_title('Bin# of MC-truth'.format(Y[3]))\n",
    "axs[0,1].set_xscale('log')\n",
    "axs[0,1].set_yscale('log')\n",
    "#axs[0,1].set_xlabel('Energy/GeV')\n",
    "\n",
    "axs[0,2].hist(bin_centers, bins = binning_E, weights = contr[4], alpha = 0.5, histtype = 'step', label= 'Event Number:4')\n",
    "#axs[0,2].set_title('Bin# of MC-truth'.format(Y[4]))\n",
    "axs[0,2].set_xscale('log')\n",
    "axs[0,2].set_yscale('log')\n",
    "\n",
    "axs[1,1].hist(bin_centers, bins = binning_E, weights = contr[5], alpha = 0.5, histtype = 'step', label= 'Event Number:5')\n",
    "#axs[1,1].set_title('Bin# of MC-truth'.format(Y[5])\n",
    "axs[1,1].set_xscale('log')\n",
    "axs[1,1].set_yscale('log')\n",
    "#axs[1,1].set_xlabel('Energy/GeV')\n",
    "axs[2,1].hist(bin_centers, bins = binning_E, weights = contr[6], alpha = 0.5, histtype = 'step', label= 'Event Number:6')\n",
    "#axs[2,1].set_title('Bin# of MC-truth'.format(Y[6]))\n",
    "axs[2,1].set_xscale('log')\n",
    "axs[2,1].set_yscale('log')\n",
    "axs[2,1].set_xlabel('Energy/GeV')\n",
    "axs[2,0].hist(bin_centers, bins = binning_E, weights = contr[7], alpha = 0.5, histtype = 'step', label= 'Event Number:7')\n",
    "#axs[2,0].set_title('Bin# of MC-truth'.format(Y[7]))\n",
    "axs[2,0].set_xscale('log')\n",
    "axs[2,0].set_yscale('log')\n",
    "\n",
    "axs[1,2].hist(bin_centers, bins = binning_E, weights = contr[8], alpha = 0.5, histtype = 'step', label= 'Event Number:8')\n",
    "#axs[1,2].set_title('Bin# of MC-truth'.format(Y[8]))\n",
    "axs[1,2].set_xscale('log')\n",
    "axs[1,2].set_yscale('log')\n",
    "\n",
    "axs[2,2].hist(bin_centers, bins = binning_E, weights = contr[9], alpha = 0.5, histtype = 'step', label= '#9')\n",
    "#axs[2,2].set_title('Bin# of MC-truth'.format(Y[9]))\n",
    "axs[2,2].set_xscale('log')\n",
    "axs[2,2].set_yscale('log')\n",
    "\n",
    "\n",
    "fig.tight_layout()\n",
    "plt.savefig(\"cor_ord.pdf\")"
   ]
  },
  {
   "cell_type": "code",
   "execution_count": 51,
   "metadata": {},
   "outputs": [
    {
     "name": "stdout",
     "output_type": "stream",
     "text": [
      "[0.   0.29 0.23 0.23 0.23 0.01 0.01 0.   0.   0.   0.   0.  ]\n",
      "[9.00004723e+01 2.73590298e+02 8.31680647e+02 2.52820624e+03\n",
      " 7.68543410e+03 2.33627685e+04 7.10199251e+04 2.15891783e+05\n",
      " 6.56284303e+05 1.99502306e+06 6.06462322e+06 1.84357041e+07\n",
      " 5.60422588e+07]\n",
      "[<matplotlib.patches.Polygon object at 0x7f04f3ae9fd0>]\n"
     ]
    },
    {
     "data": {
      "image/png": "[encoded data removed]",
      "text/plain": [
       "<Figure size 432x288 with 1 Axes>"
      ]
     },
     "metadata": {
      "needs_background": "light"
     },
     "output_type": "display_data"
    }
   ],
   "source": [
    "n,bins, patches=plt.hist(bin_centers, bins = binning_E, weights = contr_rf[y_3[5]], alpha = 0.5, histtype = 'step')\n",
    "plt.plot(binning_E[Y[y_3[5]]],contr_rf[y_3[5]][Y[y_3[5]]],'gx',label='MC-truth')\n",
    "plt.gca().set_xscale('log')\n",
    "\n",
    "print(n)\n",
    "print(bins)\n",
    "print(patches)"
   ]
  },
  {
   "cell_type": "code",
   "execution_count": 44,
   "metadata": {},
   "outputs": [
    {
     "data": {
      "text/plain": [
       "0.29"
      ]
     },
     "execution_count": 44,
     "metadata": {},
     "output_type": "execute_result"
    }
   ],
   "source": [
    "contr_rf[y_3[5]][Y[y_3[5]]]"
   ]
  },
  {
   "cell_type": "code",
   "execution_count": 60,
   "metadata": {},
   "outputs": [
    {
     "data": {
      "image/png": "[encoded data removed]",
      "text/plain": [
       "<Figure size 432x288 with 4 Axes>"
      ]
     },
     "metadata": {
      "needs_background": "light"
     },
     "output_type": "display_data"
    }
   ],
   "source": [
    "fig, axs = plt.subplots(2, 2)\n",
    "\n",
    "\n",
    "axs[0,0].hist(bin_centers, bins = binning_E, weights = contr_rf[y_3[8]], alpha = 0.5, histtype = 'step',label='Reconstruction')\n",
    "axs[0,0].plot(binning_E[Y[y_3[8]]],contr_rf[y_3[8]][Y[y_3[8]]],'gx',label='MC-truth')\n",
    "#axs[0,0].legend(loc=\"best\")\n",
    "#axs[0,0].set_title(Y[1])\n",
    "#axs[0,0].gca().set_xscale('log')\n",
    "axs[0,0].set_xscale('log')\n",
    "axs[0,0].set_yscale('log')\n",
    "#axs[0,0].set_xlabel('Energy/GeV')\n",
    "\n",
    "axs[1,0].hist(bin_centers, bins = binning_E, weights = contr_rf[y_3[6]], alpha = 0.5, histtype = 'step',label='Reconstruction')\n",
    "axs[1,0].plot(binning_E[Y[y_3[6]]],contr_rf[y_3[6]][Y[y_3[6]]],'gx',label='MC-truth')\n",
    "#axs[1,0].legend(loc=\"best\")\n",
    "#axs[1,0].set_title(Y[y_3[1]])\n",
    "axs[1,0].set_xscale('log')\n",
    "axs[1,0].set_yscale('log')\n",
    "axs[1,0].set_ylabel('Probability')\n",
    "axs[1,0].set_xlabel('Energy/GeV')\n",
    "\n",
    "axs[0,1].hist(bin_centers, bins = binning_E, weights = contr_rf[y_3[9]], alpha = 0.5, histtype = 'step',label='Reconstruction')\n",
    "axs[0,1].plot(binning_E[Y[y_3[9]]],contr_rf[y_3[9]][Y[y_3[9]]],'gx',label='MC-truth')\n",
    "#axs[0,1].legend(loc=\"best\")\n",
    "#axs[0,1].set_title(Y[y_3[2]])\n",
    "axs[0,1].set_xscale('log')\n",
    "axs[0,1].set_yscale('log')\n",
    "#axs[0,1].set_xlabel('Energy/GeV')\n",
    "\n",
    "\n",
    "\n",
    "axs[1,1].hist(bin_centers, bins = binning_E, weights = contr_rf[y_3[4]], alpha = 0.5, histtype = 'step',label='Reconstruction')\n",
    "axs[1,1].plot(binning_E[Y[y_3[4]]],contr_rf[y_3[4]][Y[y_3[4]]],'gx',label='MC-truth')\n",
    "axs[1,1].legend(loc=\"best\")\n",
    "#axs[1,1].set_title(Y[y_3[4]]) \n",
    "axs[1,1].set_xscale('log')\n",
    "axs[1,1].set_yscale('log')\n",
    "#axs[1,1].set_xlabel('Energy/GeV')\n",
    "\n",
    "\n",
    "fig.tight_layout()\n",
    "plt.savefig(\"contr_nom.pdf\")"
   ]
  },
  {
   "cell_type": "code",
   "execution_count": 62,
   "metadata": {},
   "outputs": [
    {
     "data": {
      "image/png": "[encoded data removed]",
      "text/plain": [
       "<Figure size 432x288 with 4 Axes>"
      ]
     },
     "metadata": {
      "needs_background": "light"
     },
     "output_type": "display_data"
    }
   ],
   "source": [
    "fig, axs = plt.subplots(2, 2)\n",
    "\n",
    "\n",
    "axs[0,0].hist(bin_centers, bins = binning_E, weights = contr[y_3[8]], alpha = 0.5, histtype = 'step')\n",
    "axs[0,0].plot(binning_E[Y[y_3[8]]],contr[y_3[8]][Y[y_3[8]]],'gx',label='MC-truth')\n",
    "#axs[0,0].set_title('Bin# of MC-truth'.format(Y[1]))\n",
    "#axs[0,0].gca().set_xscale('log')\n",
    "axs[0,0].set_xscale('log')\n",
    "axs[0,0].set_yscale('log')\n",
    "#axs[0,0].set_xlabel('Energy/GeV')\n",
    "axs[1,0].hist(bin_centers, bins = binning_E, weights = contr[y_3[6]], alpha = 0.5, histtype = 'step')\n",
    "axs[1,0].plot(binning_E[Y[y_3[6]]],contr[y_3[6]][Y[y_3[6]]],'gx',label='MC-truth')\n",
    "#axs[1,0].set_title('Bin# of MC-truth'.format(Y[2]))\n",
    "axs[1,0].set_xscale('log')\n",
    "axs[1,0].set_yscale('log')\n",
    "axs[1,0].set_ylabel('Probability')\n",
    "\n",
    "axs[0,1].hist(bin_centers, bins = binning_E, weights = contr[y_3[9]], alpha = 0.5, histtype = 'step',label='Reconstruction')\n",
    "axs[0,1].plot(binning_E[Y[y_3[9]]],contr[y_3[9]][Y[y_3[9]]],'gx',label='MC-truth')\n",
    "#axs[0,1].legend(loc=\"best\")\n",
    "#axs[0,1].set_title('Bin# of MC-truth'.format(Y[3]))\n",
    "axs[0,1].set_xscale('log')\n",
    "axs[0,1].set_yscale('log')\n",
    "#axs[0,1].set_xlabel('Energy/GeV')\n",
    "\n",
    "\n",
    "\n",
    "axs[1,1].hist(bin_centers, bins = binning_E, weights = contr[y_3[4]], alpha = 0.5, histtype = 'step')\n",
    "axs[1,1].plot(binning_E[Y[y_3[4]]],contr[y_3[4]][Y[y_3[4]]],'gx',label='MC-truth')\n",
    "#axs[1,1].set_title('Bin# of MC-truth'.format(Y[5])\n",
    "axs[1,1].set_xscale('log')\n",
    "axs[1,1].set_yscale('log')\n",
    "#axs[1,1].set_xlabel('Energy/GeV')\n",
    "\n",
    "\n",
    "fig.tight_layout()\n",
    "plt.savefig(\"cor_ord.pdf\")"
   ]
  },
  {
   "cell_type": "code",
   "execution_count": 10,
   "metadata": {},
   "outputs": [
    {
     "data": {
      "text/plain": [
       "Text(0.5, 0, 'Energy/GeV')"
      ]
     },
     "execution_count": 10,
     "metadata": {},
     "output_type": "execute_result"
    },
    {
     "data": {
      "image/png": "[encoded data removed]",
      "text/plain": [
       "<Figure size 432x288 with 1 Axes>"
      ]
     },
     "metadata": {
      "needs_background": "light"
     },
     "output_type": "display_data"
    }
   ],
   "source": [
    "plt.hist(bin_centers, bins = binning_E, weights = contr_rf[y_3[1]], alpha = 0.5, histtype = 'step')\n",
    "plt.gca().set_xscale('log')\n",
    "plt.yscale('log')\n",
    "plt.xlabel('Energy/GeV')"
   ]
  },
  {
   "cell_type": "code",
   "execution_count": null,
   "metadata": {},
   "outputs": [],
   "source": []
  },
  {
   "cell_type": "code",
   "execution_count": 4,
   "metadata": {},
   "outputs": [
    {
     "name": "stdout",
     "output_type": "stream",
     "text": [
      "0\n",
      "1\n",
      "2\n",
      "3\n",
      "Chi square distance between f_est and f_true: 0.00042049799775270254\n"
     ]
    },
    {
     "data": {
      "image/png": "[encoded data removed]",
      "text/plain": [
       "<Figure size 432x288 with 1 Axes>"
      ]
     },
     "metadata": {
      "needs_background": "light"
     },
     "output_type": "display_data"
    }
   ],
   "source": [
    "#Random Forrest with transformed data\n",
    "def inspect_alpha(k, alpha, chi2s, f):\n",
    "    print(alpha)\n",
    "\n",
    "\n",
    "alpha_mul = stepsize.decay_mul(0.5)\n",
    "f_RF_mul = dsea(X_btest, X_btrain, Y_train, RandomForestClassifier(), K = 30, inspect = inspect_alpha, alpha = alpha_mul)\n",
    "print('Chi square distance between f_est and f_true: {}'.format(util.chi2s(f_AT_mul, f_true)))\n",
    "plt.hist(bin_centers, bins = binning_E[0:13], weights = f_true, alpha = 0.5,label ='f_true')\n",
    "plt.hist(bin_centers, bins = binning_E[0:13], weights = f_AT_mul, alpha = 0.5,histtype = 'step',label='Randomforrest with transformed data')\n",
    "plt.gca().set_xscale('log')\n",
    "plt.yscale('log')\n",
    "plt.xlabel('Energy/GeV')\n",
    "plt.legend(loc='best')\n",
    "plt.show()"
   ]
  },
  {
   "cell_type": "code",
   "execution_count": 12,
   "metadata": {},
   "outputs": [
    {
     "data": {
      "text/plain": [
       "array([4.6576e-01, 1.0580e-02, 3.1700e-02, 8.7700e-02, 1.7720e-01,\n",
       "       1.5532e-01, 5.7620e-02, 1.1700e-02, 1.9400e-03, 3.2000e-04,\n",
       "       1.2000e-04, 4.0000e-05])"
      ]
     },
     "execution_count": 12,
     "metadata": {},
     "output_type": "execute_result"
    }
   ],
   "source": [
    "#trying a regression(without y-j-transormation)\n",
    "from sklearn.linear_model import Ridge\n",
    "y = df['MCPrimary.energy'] #reading target \n",
    "y_train=y[n_test:]   #test-trainsplit for unbinned target\n",
    "\n",
    "f_reg=Ridge().fit(X_train,y_train)#fitting regression\n",
    "f_pred=f_reg.predict(X_test)#testing prediction\n",
    "f_pred = np.digitize(f_pred, binning_E)\n",
    "#np.unique(f_pred)\n",
    "f_pred = util.fit_pdf(f_pred)\n",
    "f_pred"
   ]
  },
  {
   "cell_type": "code",
   "execution_count": 10,
   "metadata": {},
   "outputs": [
    {
     "data": {
      "text/plain": [
       "array([4.6576e-01, 1.0580e-02, 3.1700e-02, 8.7700e-02, 1.7720e-01,\n",
       "       1.5532e-01, 5.7620e-02, 1.1700e-02, 1.9400e-03, 3.2000e-04,\n",
       "       1.2000e-04, 4.0000e-05, 0.0000e+00])"
      ]
     },
     "execution_count": 10,
     "metadata": {},
     "output_type": "execute_result"
    }
   ],
   "source": [
    "#I only get 11 results; should be 12\n",
    "#that could mean that the 12th bin is empty?\n",
    "f_pred = np.append(f_pred,0)#adding 12 bin manually\n",
    "f_pred"
   ]
  },
  {
   "cell_type": "code",
   "execution_count": 13,
   "metadata": {},
   "outputs": [
    {
     "data": {
      "image/png": "[encoded data removed]",
      "text/plain": [
       "<Figure size 432x288 with 1 Axes>"
      ]
     },
     "metadata": {
      "needs_background": "light"
     },
     "output_type": "display_data"
    }
   ],
   "source": [
    "f_pred=([4.6576e-01, 1.0580e-02, 3.1700e-02, 8.7700e-02, 1.7720e-01,\n",
    "       1.5532e-01, 5.7620e-02, 1.1700e-02, 1.9400e-03, 3.2000e-04,\n",
    "       1.2000e-04, 4.0000e-05])\n",
    "plt.hist(bin_centers, bins = binning_E, weights = f_true, alpha = 0.5,label ='f_true')\n",
    "plt.hist(bin_centers, bins = binning_E, weights = f_pred, alpha = 0.5,histtype = 'step',label='Regression with target')\n",
    "plt.gca().set_xscale('log')\n",
    "plt.yscale('log')\n",
    "plt.xlabel('Energy[GeV]')\n",
    "plt.ylabel('Normalized Number of Events')\n",
    "plt.legend(loc='best')\n",
    "plt.savefig(\"ridge_ut.pdf\")"
   ]
  },
  {
   "cell_type": "code",
   "execution_count": 14,
   "metadata": {},
   "outputs": [
    {
     "data": {
      "text/plain": [
       "array([3.3292e-01, 5.1084e-01, 1.2852e-01, 1.8160e-02, 4.8200e-03,\n",
       "       2.2200e-03, 1.0600e-03, 6.0000e-04, 3.8000e-04, 2.4000e-04,\n",
       "       1.0000e-04, 1.4000e-04])"
      ]
     },
     "execution_count": 14,
     "metadata": {},
     "output_type": "execute_result"
    }
   ],
   "source": [
    "#regression with binned data\n",
    "f_reg2=Ridge().fit(X_train,Y_train)#fitting regression\n",
    "f_pred2=f_reg2.predict(X_test)#testing prediction\n",
    "binning_pred=np.linspace(1,11,11)#I don't know if that is right but because np.digitize is open to the left and closed to the right it \n",
    "f_pred2=np.digitize(f_pred2,binning_pred)#should put the underflow into bin 0 and stops at 11 as the true pdf does\n",
    "f_pred2=util.fit_pdf(f_pred2)\n",
    "f_pred2"
   ]
  },
  {
   "cell_type": "code",
   "execution_count": 14,
   "metadata": {},
   "outputs": [
    {
     "data": {
      "image/png": "[encoded data removed]",
      "text/plain": [
       "<Figure size 432x288 with 1 Axes>"
      ]
     },
     "metadata": {
      "needs_background": "light"
     },
     "output_type": "display_data"
    }
   ],
   "source": [
    "f_pred2 =([3.3292e-01, 5.1084e-01, 1.2852e-01, 1.8160e-02, 4.8200e-03,\n",
    "       2.2200e-03, 1.0600e-03, 6.0000e-04, 3.8000e-04, 2.4000e-04,\n",
    "       1.0000e-04, 1.4000e-04])\n",
    "plt.hist(bin_centers, bins = binning_E, weights = f_true, alpha = 0.5,label ='f_true')\n",
    "plt.hist(bin_centers, bins = binning_E, weights = f_pred2, alpha = 0.5,histtype = 'step',label='Regression with binned target')\n",
    "plt.gca().set_xscale('log')\n",
    "plt.yscale('log')\n",
    "plt.xlabel('Energy[GeV]')\n",
    "plt.ylabel('Normalized Number of Events')\n",
    "plt.legend(loc='best')\n",
    "plt.savefig(\"ridge_binned.pdf\")"
   ]
  },
  {
   "cell_type": "code",
   "execution_count": 16,
   "metadata": {},
   "outputs": [
    {
     "name": "stdout",
     "output_type": "stream",
     "text": [
      "Chi square distance between Ridge-regression with unbinned target and f_true: 1.5974305141579754\n",
      "Chi square distance between Ridge-regression with binned target and f_true: 0.29797831282696047\n"
     ]
    }
   ],
   "source": [
    "print('Chi square distance between Ridge-regression with unbinned target and f_true: {}'.format(util.chi2s(f_pred, f_true)))\n",
    "print('Chi square distance between Ridge-regression with binned target and f_true: {}'.format(util.chi2s(f_pred2, f_true)))"
   ]
  },
  {
   "cell_type": "code",
   "execution_count": 8,
   "metadata": {},
   "outputs": [
    {
     "name": "stdout",
     "output_type": "stream",
     "text": [
      "Chi square distance between BayesianRidge-regression with binned target and f_true: 0.2985989363013696\n"
     ]
    },
    {
     "data": {
      "image/png": "[encoded data removed]",
      "text/plain": [
       "<Figure size 432x288 with 1 Axes>"
      ]
     },
     "metadata": {
      "needs_background": "light"
     },
     "output_type": "display_data"
    }
   ],
   "source": [
    "#trying bayesian ridge regression\n",
    "from sklearn.linear_model import BayesianRidge\n",
    "f_reg3=BayesianRidge().fit(X_train,Y_train)#fitting regression\n",
    "f_pred3=f_reg3.predict(X_test)#testing prediction\n",
    "binning_pred=np.linspace(1,11,11)#I don't know if that is right but because np.digitize is open to the left and closed to the right it \n",
    "f_pred3=np.digitize(f_pred3,binning_pred)#should put the underflow into bin 0 and stops at 11 as the true pdf does\n",
    "f_pred3=util.fit_pdf(f_pred3)\n",
    "print('Chi square distance between BayesianRidge-regression with binned target and f_true: {}'.format(util.chi2s(f_pred3, f_true)))\n",
    "plt.hist(bin_centers, bins = binning_E, weights = f_true, alpha = 0.5,label ='f_true')\n",
    "plt.hist(bin_centers, bins = binning_E, weights = f_pred3, alpha = 0.5,histtype = 'step',label='Regression with binned target')\n",
    "plt.gca().set_xscale('log')\n",
    "plt.yscale('log')\n",
    "plt.xlabel('Energy/GeV')\n",
    "plt.legend(loc='best')\n",
    "plt.show()"
   ]
  },
  {
   "cell_type": "code",
   "execution_count": 27,
   "metadata": {},
   "outputs": [
    {
     "data": {
      "text/plain": [
       "array([0.08536, 0.1916 , 0.20522, 0.17122, 0.12734, 0.0837 , 0.05384,\n",
       "       0.03258, 0.02042, 0.01236, 0.0068 , 0.00434, 0.00522])"
      ]
     },
     "execution_count": 27,
     "metadata": {},
     "output_type": "execute_result"
    }
   ],
   "source": [
    "#trying out Tim Ruhes advice\n",
    "Y = df['MCPrimary.energy']\n",
    "binning_E = np.logspace(np.log10(Y.min()-10),# creating 12 bins for the energy \n",
    "np.log10(1e5), 13)    #limiting my energy to 1e5 GeV\n",
    "#Binning overflow & underflow manually\n",
    "overflow = 1e9\n",
    "bins_over = np.append(binning_E,overflow)\n",
    "binning_E = bins_over\n",
    "\n",
    "Y = np.digitize(Y, binning_E)  \n",
    "\n",
    "Y = Y - 1\n",
    "\n",
    "bin_1=[i for i in binning_E[:-1]]\n",
    "bin_2=[i for i in binning_E[1:]]\n",
    "bin_centers = np.mean([bin_1, bin_2], axis=0)\n",
    "#n_test = int(len(df)/10)\n",
    "\n",
    "\n",
    "Y_train = Y[n_test:]\n",
    "\n",
    "\n",
    "Y_test = Y[:n_test]\n",
    "\n",
    "f_true = util.fit_pdf(Y_test) \n",
    "f_true\n"
   ]
  },
  {
   "cell_type": "code",
   "execution_count": 6,
   "metadata": {},
   "outputs": [
    {
     "name": "stdout",
     "output_type": "stream",
     "text": [
      "0\n",
      "1\n",
      "2\n",
      "3\n",
      "Chi square distance between f_est and f_true: 0.16351851376069956\n"
     ]
    },
    {
     "data": {
      "image/png": "[encoded data removed]",
      "text/plain": [
       "<Figure size 432x288 with 1 Axes>"
      ]
     },
     "metadata": {
      "needs_background": "light"
     },
     "output_type": "display_data"
    }
   ],
   "source": [
    "#logistic AT with decaying stepsize(transformed data+limit to 1e5 GeV)\n",
    "def inspect_alpha(k, alpha, chi2s, f):\n",
    "    print(alpha)\n",
    "\n",
    "\n",
    "alpha_mul = stepsize.decay_mul(0.5)\n",
    "f_AT_mul = dsea(X_btest, X_btrain, Y_train, LogisticAT(), K = 3, inspect = inspect_alpha, alpha = alpha_mul)\n",
    "print('Chi square distance between f_est and f_true: {}'.format(util.chi2s(f_AT_mul, f_true)))\n",
    "plt.hist(bin_centers, bins = binning_E[0:13], weights = f_true, alpha = 0.5,label ='f_true')\n",
    "plt.hist(bin_centers, bins = binning_E[0:13], weights = f_AT_mul, alpha = 0.5,histtype = 'step',label='f_AT')\n",
    "plt.gca().set_xscale('log')\n",
    "plt.yscale('log')\n",
    "plt.xlabel('Energy/GeV')\n",
    "plt.legend(loc='best')\n",
    "plt.show()"
   ]
  },
  {
   "cell_type": "code",
   "execution_count": 28,
   "metadata": {},
   "outputs": [
    {
     "name": "stdout",
     "output_type": "stream",
     "text": [
      "0\n",
      "1\n",
      "2\n",
      "3\n",
      "4\n",
      "5\n",
      "6\n",
      "7\n",
      "8\n",
      "9\n",
      "10\n",
      "11\n",
      "12\n",
      "13\n",
      "14\n",
      "15\n",
      "16\n",
      "17\n",
      "18\n",
      "19\n",
      "20\n",
      "Chi square distance between f_est and f_true: 0.0201865469885582\n"
     ]
    }
   ],
   "source": [
    "#logistic AT with decaying stepsize(transformed data+limit to 1e5 GeV+more iteration steps)\n",
    "def inspect_alpha(k, alpha, chi2s, f):\n",
    "    print(alpha)\n",
    "\n",
    "\n",
    "alpha_mul = stepsize.decay_mul(0.5)\n",
    "f_AT_mul = dsea(X_btest, X_btrain, Y_train, LogisticAT(), K = 20, inspect = inspect_alpha, alpha = alpha_mul)\n",
    "print('Chi square distance between f_est and f_true: {}'.format(util.chi2s(f_AT_mul, f_true)))"
   ]
  },
  {
   "cell_type": "code",
   "execution_count": 29,
   "metadata": {},
   "outputs": [
    {
     "data": {
      "image/png": "[encoded data removed]",
      "text/plain": [
       "<Figure size 432x288 with 1 Axes>"
      ]
     },
     "metadata": {
      "needs_background": "light"
     },
     "output_type": "display_data"
    }
   ],
   "source": [
    "\n",
    "plt.hist(bin_centers, bins = binning_E[0:13], weights = f_true, alpha = 0.5,label ='f_true')\n",
    "plt.hist(bin_centers, bins = binning_E[0:13], weights = f_AT_mul, alpha = 0.5,histtype = 'step',label='f_AT')\n",
    "plt.gca().set_xscale('log')\n",
    "plt.yscale('log')\n",
    "plt.xlabel('Energy/GeV')\n",
    "plt.ylabel('Normalized Number of Events')\n",
    "plt.legend(loc='best')\n",
    "plt.savefig(\"logisticAT20itUT.pdf\")"
   ]
  },
  {
   "cell_type": "code",
   "execution_count": 30,
   "metadata": {},
   "outputs": [
    {
     "name": "stdout",
     "output_type": "stream",
     "text": [
      "0\n",
      "1\n",
      "2\n",
      "3\n",
      "4\n",
      "5\n",
      "6\n",
      "7\n",
      "8\n",
      "9\n",
      "10\n",
      "11\n",
      "12\n",
      "13\n",
      "14\n",
      "15\n",
      "16\n",
      "17\n",
      "18\n",
      "19\n",
      "20\n",
      "21\n",
      "22\n",
      "23\n",
      "24\n",
      "25\n",
      "26\n",
      "27\n",
      "28\n",
      "29\n",
      "30\n",
      "Chi square distance between f_est and f_true: 0.01248945953742212\n"
     ]
    },
    {
     "data": {
      "text/plain": [
       "array([0.10886088, 0.1680706 , 0.18816715, 0.16944693, 0.13021582,\n",
       "       0.09021991, 0.05856581, 0.03632342, 0.02173771, 0.01271253,\n",
       "       0.00749548, 0.00468857, 0.00349519])"
      ]
     },
     "execution_count": 30,
     "metadata": {},
     "output_type": "execute_result"
    }
   ],
   "source": [
    "#testing even more iterations(30)\n",
    "def inspect_alpha(k, alpha, chi2s, f):\n",
    "    print(alpha)\n",
    "\n",
    "\n",
    "alpha_mul = stepsize.decay_mul(0.5)\n",
    "f_AT_mul, contr_AT = dsea(X_btest, X_btrain, Y_train, LogisticAT(), K = 30, inspect = inspect_alpha, alpha = alpha_mul, return_contributions = True)\n",
    "print('Chi square distance between f_est and f_true: {}'.format(util.chi2s(f_AT_mul, f_true)))\n",
    "f_AT_mul"
   ]
  },
  {
   "cell_type": "code",
   "execution_count": 15,
   "metadata": {},
   "outputs": [
    {
     "ename": "ValueError",
     "evalue": "weights should have the same shape as x",
     "output_type": "error",
     "traceback": [
      "\u001b[0;31m---------------------------------------------------------------------------\u001b[0m",
      "\u001b[0;31mValueError\u001b[0m                                Traceback (most recent call last)",
      "\u001b[0;32m<ipython-input-15-65cba427bce0>\u001b[0m in \u001b[0;36m<module>\u001b[0;34m\u001b[0m\n\u001b[1;32m      3\u001b[0m        0.00749548, 0.00468857, 0.00349519])\n\u001b[1;32m      4\u001b[0m \u001b[0mplt\u001b[0m\u001b[0;34m.\u001b[0m\u001b[0mhist\u001b[0m\u001b[0;34m(\u001b[0m\u001b[0mbin_centers\u001b[0m\u001b[0;34m,\u001b[0m \u001b[0mbins\u001b[0m \u001b[0;34m=\u001b[0m \u001b[0mbinning_E\u001b[0m\u001b[0;34m[\u001b[0m\u001b[0;36m0\u001b[0m\u001b[0;34m:\u001b[0m\u001b[0;36m13\u001b[0m\u001b[0;34m]\u001b[0m\u001b[0;34m,\u001b[0m \u001b[0mweights\u001b[0m \u001b[0;34m=\u001b[0m \u001b[0mf_true\u001b[0m\u001b[0;34m,\u001b[0m \u001b[0malpha\u001b[0m \u001b[0;34m=\u001b[0m \u001b[0;36m0.5\u001b[0m\u001b[0;34m,\u001b[0m\u001b[0mlabel\u001b[0m \u001b[0;34m=\u001b[0m\u001b[0;34m'f_true'\u001b[0m\u001b[0;34m)\u001b[0m\u001b[0;34m\u001b[0m\u001b[0;34m\u001b[0m\u001b[0m\n\u001b[0;32m----> 5\u001b[0;31m \u001b[0mplt\u001b[0m\u001b[0;34m.\u001b[0m\u001b[0mhist\u001b[0m\u001b[0;34m(\u001b[0m\u001b[0mbin_centers\u001b[0m\u001b[0;34m,\u001b[0m \u001b[0mbins\u001b[0m \u001b[0;34m=\u001b[0m \u001b[0mbinning_E\u001b[0m\u001b[0;34m[\u001b[0m\u001b[0;36m0\u001b[0m\u001b[0;34m:\u001b[0m\u001b[0;36m13\u001b[0m\u001b[0;34m]\u001b[0m\u001b[0;34m,\u001b[0m \u001b[0mweights\u001b[0m \u001b[0;34m=\u001b[0m \u001b[0mf_AT_mul\u001b[0m\u001b[0;34m,\u001b[0m \u001b[0malpha\u001b[0m \u001b[0;34m=\u001b[0m \u001b[0;36m0.5\u001b[0m\u001b[0;34m,\u001b[0m\u001b[0mhisttype\u001b[0m \u001b[0;34m=\u001b[0m \u001b[0;34m'step'\u001b[0m\u001b[0;34m,\u001b[0m\u001b[0mlabel\u001b[0m\u001b[0;34m=\u001b[0m\u001b[0;34m'f_AT'\u001b[0m\u001b[0;34m)\u001b[0m\u001b[0;34m\u001b[0m\u001b[0;34m\u001b[0m\u001b[0m\n\u001b[0m\u001b[1;32m      6\u001b[0m \u001b[0mplt\u001b[0m\u001b[0;34m.\u001b[0m\u001b[0mgca\u001b[0m\u001b[0;34m(\u001b[0m\u001b[0;34m)\u001b[0m\u001b[0;34m.\u001b[0m\u001b[0mset_xscale\u001b[0m\u001b[0;34m(\u001b[0m\u001b[0;34m'log'\u001b[0m\u001b[0;34m)\u001b[0m\u001b[0;34m\u001b[0m\u001b[0;34m\u001b[0m\u001b[0m\n\u001b[1;32m      7\u001b[0m \u001b[0mplt\u001b[0m\u001b[0;34m.\u001b[0m\u001b[0myscale\u001b[0m\u001b[0;34m(\u001b[0m\u001b[0;34m'log'\u001b[0m\u001b[0;34m)\u001b[0m\u001b[0;34m\u001b[0m\u001b[0;34m\u001b[0m\u001b[0m\n",
      "\u001b[0;32m~/.local/anaconda3/lib/python3.8/site-packages/matplotlib/pyplot.py\u001b[0m in \u001b[0;36mhist\u001b[0;34m(x, bins, range, density, weights, cumulative, bottom, histtype, align, orientation, rwidth, log, color, label, stacked, data, **kwargs)\u001b[0m\n\u001b[1;32m   2683\u001b[0m         \u001b[0morientation\u001b[0m\u001b[0;34m=\u001b[0m\u001b[0;34m'vertical'\u001b[0m\u001b[0;34m,\u001b[0m \u001b[0mrwidth\u001b[0m\u001b[0;34m=\u001b[0m\u001b[0;32mNone\u001b[0m\u001b[0;34m,\u001b[0m \u001b[0mlog\u001b[0m\u001b[0;34m=\u001b[0m\u001b[0;32mFalse\u001b[0m\u001b[0;34m,\u001b[0m \u001b[0mcolor\u001b[0m\u001b[0;34m=\u001b[0m\u001b[0;32mNone\u001b[0m\u001b[0;34m,\u001b[0m\u001b[0;34m\u001b[0m\u001b[0;34m\u001b[0m\u001b[0m\n\u001b[1;32m   2684\u001b[0m         label=None, stacked=False, *, data=None, **kwargs):\n\u001b[0;32m-> 2685\u001b[0;31m     return gca().hist(\n\u001b[0m\u001b[1;32m   2686\u001b[0m         \u001b[0mx\u001b[0m\u001b[0;34m,\u001b[0m \u001b[0mbins\u001b[0m\u001b[0;34m=\u001b[0m\u001b[0mbins\u001b[0m\u001b[0;34m,\u001b[0m \u001b[0mrange\u001b[0m\u001b[0;34m=\u001b[0m\u001b[0mrange\u001b[0m\u001b[0;34m,\u001b[0m \u001b[0mdensity\u001b[0m\u001b[0;34m=\u001b[0m\u001b[0mdensity\u001b[0m\u001b[0;34m,\u001b[0m \u001b[0mweights\u001b[0m\u001b[0;34m=\u001b[0m\u001b[0mweights\u001b[0m\u001b[0;34m,\u001b[0m\u001b[0;34m\u001b[0m\u001b[0;34m\u001b[0m\u001b[0m\n\u001b[1;32m   2687\u001b[0m         \u001b[0mcumulative\u001b[0m\u001b[0;34m=\u001b[0m\u001b[0mcumulative\u001b[0m\u001b[0;34m,\u001b[0m \u001b[0mbottom\u001b[0m\u001b[0;34m=\u001b[0m\u001b[0mbottom\u001b[0m\u001b[0;34m,\u001b[0m \u001b[0mhisttype\u001b[0m\u001b[0;34m=\u001b[0m\u001b[0mhisttype\u001b[0m\u001b[0;34m,\u001b[0m\u001b[0;34m\u001b[0m\u001b[0;34m\u001b[0m\u001b[0m\n",
      "\u001b[0;32m~/.local/anaconda3/lib/python3.8/site-packages/matplotlib/__init__.py\u001b[0m in \u001b[0;36minner\u001b[0;34m(ax, data, *args, **kwargs)\u001b[0m\n\u001b[1;32m   1436\u001b[0m     \u001b[0;32mdef\u001b[0m \u001b[0minner\u001b[0m\u001b[0;34m(\u001b[0m\u001b[0max\u001b[0m\u001b[0;34m,\u001b[0m \u001b[0;34m*\u001b[0m\u001b[0margs\u001b[0m\u001b[0;34m,\u001b[0m \u001b[0mdata\u001b[0m\u001b[0;34m=\u001b[0m\u001b[0;32mNone\u001b[0m\u001b[0;34m,\u001b[0m \u001b[0;34m**\u001b[0m\u001b[0mkwargs\u001b[0m\u001b[0;34m)\u001b[0m\u001b[0;34m:\u001b[0m\u001b[0;34m\u001b[0m\u001b[0;34m\u001b[0m\u001b[0m\n\u001b[1;32m   1437\u001b[0m         \u001b[0;32mif\u001b[0m \u001b[0mdata\u001b[0m \u001b[0;32mis\u001b[0m \u001b[0;32mNone\u001b[0m\u001b[0;34m:\u001b[0m\u001b[0;34m\u001b[0m\u001b[0;34m\u001b[0m\u001b[0m\n\u001b[0;32m-> 1438\u001b[0;31m             \u001b[0;32mreturn\u001b[0m \u001b[0mfunc\u001b[0m\u001b[0;34m(\u001b[0m\u001b[0max\u001b[0m\u001b[0;34m,\u001b[0m \u001b[0;34m*\u001b[0m\u001b[0mmap\u001b[0m\u001b[0;34m(\u001b[0m\u001b[0msanitize_sequence\u001b[0m\u001b[0;34m,\u001b[0m \u001b[0margs\u001b[0m\u001b[0;34m)\u001b[0m\u001b[0;34m,\u001b[0m \u001b[0;34m**\u001b[0m\u001b[0mkwargs\u001b[0m\u001b[0;34m)\u001b[0m\u001b[0;34m\u001b[0m\u001b[0;34m\u001b[0m\u001b[0m\n\u001b[0m\u001b[1;32m   1439\u001b[0m \u001b[0;34m\u001b[0m\u001b[0m\n\u001b[1;32m   1440\u001b[0m         \u001b[0mbound\u001b[0m \u001b[0;34m=\u001b[0m \u001b[0mnew_sig\u001b[0m\u001b[0;34m.\u001b[0m\u001b[0mbind\u001b[0m\u001b[0;34m(\u001b[0m\u001b[0max\u001b[0m\u001b[0;34m,\u001b[0m \u001b[0;34m*\u001b[0m\u001b[0margs\u001b[0m\u001b[0;34m,\u001b[0m \u001b[0;34m**\u001b[0m\u001b[0mkwargs\u001b[0m\u001b[0;34m)\u001b[0m\u001b[0;34m\u001b[0m\u001b[0;34m\u001b[0m\u001b[0m\n",
      "\u001b[0;32m~/.local/anaconda3/lib/python3.8/site-packages/matplotlib/axes/_axes.py\u001b[0m in \u001b[0;36mhist\u001b[0;34m(self, x, bins, range, density, weights, cumulative, bottom, histtype, align, orientation, rwidth, log, color, label, stacked, **kwargs)\u001b[0m\n\u001b[1;32m   6601\u001b[0m             \u001b[0mlen_xi\u001b[0m \u001b[0;34m=\u001b[0m \u001b[0mlen\u001b[0m\u001b[0;34m(\u001b[0m\u001b[0mxi\u001b[0m\u001b[0;34m)\u001b[0m\u001b[0;34m\u001b[0m\u001b[0;34m\u001b[0m\u001b[0m\n\u001b[1;32m   6602\u001b[0m             \u001b[0;32mif\u001b[0m \u001b[0mwi\u001b[0m \u001b[0;32mis\u001b[0m \u001b[0;32mnot\u001b[0m \u001b[0;32mNone\u001b[0m \u001b[0;32mand\u001b[0m \u001b[0mlen\u001b[0m\u001b[0;34m(\u001b[0m\u001b[0mwi\u001b[0m\u001b[0;34m)\u001b[0m \u001b[0;34m!=\u001b[0m \u001b[0mlen_xi\u001b[0m\u001b[0;34m:\u001b[0m\u001b[0;34m\u001b[0m\u001b[0;34m\u001b[0m\u001b[0m\n\u001b[0;32m-> 6603\u001b[0;31m                 \u001b[0;32mraise\u001b[0m \u001b[0mValueError\u001b[0m\u001b[0;34m(\u001b[0m\u001b[0;34m'weights should have the same shape as x'\u001b[0m\u001b[0;34m)\u001b[0m\u001b[0;34m\u001b[0m\u001b[0;34m\u001b[0m\u001b[0m\n\u001b[0m\u001b[1;32m   6604\u001b[0m             \u001b[0;32mif\u001b[0m \u001b[0mlen_xi\u001b[0m\u001b[0;34m:\u001b[0m\u001b[0;34m\u001b[0m\u001b[0;34m\u001b[0m\u001b[0m\n\u001b[1;32m   6605\u001b[0m                 \u001b[0minput_empty\u001b[0m \u001b[0;34m=\u001b[0m \u001b[0;32mFalse\u001b[0m\u001b[0;34m\u001b[0m\u001b[0;34m\u001b[0m\u001b[0m\n",
      "\u001b[0;31mValueError\u001b[0m: weights should have the same shape as x"
     ]
    },
    {
     "data": {
      "image/png": "[encoded data removed]",
      "text/plain": [
       "<Figure size 432x288 with 1 Axes>"
      ]
     },
     "metadata": {
      "needs_background": "light"
     },
     "output_type": "display_data"
    }
   ],
   "source": [
    "f_AT_mul=([0.10886088, 0.1680706 , 0.18816715, 0.16944693, 0.13021582,\n",
    "       0.09021991, 0.05856581, 0.03632342, 0.02173771, 0.01271253,\n",
    "       0.00749548, 0.00468857, 0.00349519])\n",
    "plt.hist(bin_centers, bins = binning_E[0:13], weights = f_true, alpha = 0.5,label ='f_true')\n",
    "plt.hist(bin_centers, bins = binning_E[0:13], weights = f_AT_mul, alpha = 0.5,histtype = 'step',label='f_AT')\n",
    "plt.gca().set_xscale('log')\n",
    "plt.yscale('log')\n",
    "plt.xlabel('Energy[GeV]')\n",
    "plt.ylabel('Normalized Number of Events')\n",
    "plt.legend(loc='best')\n",
    "plt.savefig(\"logisticAT30itUT.pdf\")"
   ]
  },
  {
   "cell_type": "code",
   "execution_count": 8,
   "metadata": {},
   "outputs": [
    {
     "name": "stdout",
     "output_type": "stream",
     "text": [
      "Chi square distance between f_est and f_true: 0.0003670241250109776\n"
     ]
    },
    {
     "data": {
      "image/png": "[encoded data removed]",
      "text/plain": [
       "<Figure size 432x288 with 1 Axes>"
      ]
     },
     "metadata": {
      "needs_background": "light"
     },
     "output_type": "display_data"
    }
   ],
   "source": [
    "#Random Forrest for comperision(without tranfromed data+limited energy range)\n",
    "f_est= dsea(X_test, X_train, Y_train,RandomForestClassifier(), K=3)\n",
    "print('Chi square distance between f_est and f_true: {}'.format(util.chi2s(f_est, f_true)))\n",
    "plt.hist(bin_centers, bins = binning_E[0:13], weights = f_true, alpha = 0.5,label ='f_true')\n",
    "plt.hist(bin_centers,  bins = binning_E[0:13], weights = f_est, alpha = 0.5,histtype = 'step',label='f_RF')\n",
    "plt.gca().set_xscale('log')\n",
    "plt.yscale('log')\n",
    "plt.xlabel('Energy/GeV')\n",
    "plt.legend(loc='best')\n",
    "plt.show()"
   ]
  },
  {
   "cell_type": "code",
   "execution_count": 18,
   "metadata": {},
   "outputs": [
    {
     "name": "stdout",
     "output_type": "stream",
     "text": [
      "0\n"
     ]
    },
    {
     "ename": "KeyboardInterrupt",
     "evalue": "",
     "output_type": "error",
     "traceback": [
      "\u001b[0;31m---------------------------------------------------------------------------\u001b[0m",
      "\u001b[0;31mKeyboardInterrupt\u001b[0m                         Traceback (most recent call last)",
      "\u001b[0;32m<ipython-input-18-bae3d061f9b6>\u001b[0m in \u001b[0;36m<module>\u001b[0;34m\u001b[0m\n\u001b[1;32m      5\u001b[0m \u001b[0;34m\u001b[0m\u001b[0m\n\u001b[1;32m      6\u001b[0m \u001b[0malpha_mul\u001b[0m \u001b[0;34m=\u001b[0m \u001b[0mstepsize\u001b[0m\u001b[0;34m.\u001b[0m\u001b[0mdecay_mul\u001b[0m\u001b[0;34m(\u001b[0m\u001b[0;36m0.5\u001b[0m\u001b[0;34m)\u001b[0m\u001b[0;34m\u001b[0m\u001b[0;34m\u001b[0m\u001b[0m\n\u001b[0;32m----> 7\u001b[0;31m \u001b[0mf_RF_mul\u001b[0m\u001b[0;34m,\u001b[0m \u001b[0mcontr_RF\u001b[0m \u001b[0;34m=\u001b[0m \u001b[0mdsea\u001b[0m\u001b[0;34m(\u001b[0m\u001b[0mX_btest\u001b[0m\u001b[0;34m,\u001b[0m \u001b[0mX_btrain\u001b[0m\u001b[0;34m,\u001b[0m \u001b[0mY_train\u001b[0m\u001b[0;34m,\u001b[0m \u001b[0mRandomForestClassifier\u001b[0m\u001b[0;34m(\u001b[0m\u001b[0;34m)\u001b[0m\u001b[0;34m,\u001b[0m \u001b[0mK\u001b[0m \u001b[0;34m=\u001b[0m \u001b[0;36m30\u001b[0m\u001b[0;34m,\u001b[0m \u001b[0minspect\u001b[0m \u001b[0;34m=\u001b[0m \u001b[0minspect_alpha\u001b[0m\u001b[0;34m,\u001b[0m \u001b[0malpha\u001b[0m \u001b[0;34m=\u001b[0m \u001b[0malpha_mul\u001b[0m\u001b[0;34m,\u001b[0m\u001b[0mreturn_contributions\u001b[0m \u001b[0;34m=\u001b[0m \u001b[0;32mTrue\u001b[0m\u001b[0;34m)\u001b[0m\u001b[0;34m\u001b[0m\u001b[0;34m\u001b[0m\u001b[0m\n\u001b[0m\u001b[1;32m      8\u001b[0m \u001b[0mprint\u001b[0m\u001b[0;34m(\u001b[0m\u001b[0;34m'Chi square distance between f_est and f_true: {}'\u001b[0m\u001b[0;34m.\u001b[0m\u001b[0mformat\u001b[0m\u001b[0;34m(\u001b[0m\u001b[0mutil\u001b[0m\u001b[0;34m.\u001b[0m\u001b[0mchi2s\u001b[0m\u001b[0;34m(\u001b[0m\u001b[0mf_AT_mul\u001b[0m\u001b[0;34m,\u001b[0m \u001b[0mf_true\u001b[0m\u001b[0;34m)\u001b[0m\u001b[0;34m)\u001b[0m\u001b[0;34m)\u001b[0m\u001b[0;34m\u001b[0m\u001b[0;34m\u001b[0m\u001b[0m\n\u001b[1;32m      9\u001b[0m \u001b[0mplt\u001b[0m\u001b[0;34m.\u001b[0m\u001b[0mhist\u001b[0m\u001b[0;34m(\u001b[0m\u001b[0mbin_centers\u001b[0m\u001b[0;34m,\u001b[0m \u001b[0mbins\u001b[0m \u001b[0;34m=\u001b[0m \u001b[0mbinning_E\u001b[0m\u001b[0;34m[\u001b[0m\u001b[0;36m0\u001b[0m\u001b[0;34m:\u001b[0m\u001b[0;36m13\u001b[0m\u001b[0;34m]\u001b[0m\u001b[0;34m,\u001b[0m \u001b[0mweights\u001b[0m \u001b[0;34m=\u001b[0m \u001b[0mf_true\u001b[0m\u001b[0;34m,\u001b[0m \u001b[0malpha\u001b[0m \u001b[0;34m=\u001b[0m \u001b[0;36m0.5\u001b[0m\u001b[0;34m,\u001b[0m\u001b[0mlabel\u001b[0m \u001b[0;34m=\u001b[0m\u001b[0;34m'f_true'\u001b[0m\u001b[0;34m)\u001b[0m\u001b[0;34m\u001b[0m\u001b[0;34m\u001b[0m\u001b[0m\n",
      "\u001b[0;32m/mnt/c/Users/janja/Desktop/DSEA/CherenkovDeconvolution.py/cherenkovdeconvolution/methods/dsea.py\u001b[0m in \u001b[0;36mdeconvolve\u001b[0;34m(X_data, X_train, y_train, classifier, bins, f_0, fixweighting, alpha, smoothing, K, epsilon, inspect, return_contributions)\u001b[0m\n\u001b[1;32m    119\u001b[0m \u001b[0;34m\u001b[0m\u001b[0m\n\u001b[1;32m    120\u001b[0m         \u001b[0;31m# === update the estimate ===\u001b[0m\u001b[0;34m\u001b[0m\u001b[0;34m\u001b[0m\u001b[0;34m\u001b[0m\u001b[0m\n\u001b[0;32m--> 121\u001b[0;31m         \u001b[0mproba\u001b[0m     \u001b[0;34m=\u001b[0m \u001b[0m_train_and_predict_proba\u001b[0m\u001b[0;34m(\u001b[0m\u001b[0mclassifier\u001b[0m\u001b[0;34m,\u001b[0m \u001b[0mX_data\u001b[0m\u001b[0;34m,\u001b[0m \u001b[0mX_train\u001b[0m\u001b[0;34m,\u001b[0m \u001b[0my_train\u001b[0m\u001b[0;34m,\u001b[0m \u001b[0mw_train\u001b[0m\u001b[0;34m)\u001b[0m\u001b[0;34m\u001b[0m\u001b[0;34m\u001b[0m\u001b[0m\n\u001b[0m\u001b[1;32m    122\u001b[0m         \u001b[0mf_next\u001b[0m    \u001b[0;34m=\u001b[0m \u001b[0m_dsea_reconstruct\u001b[0m\u001b[0;34m(\u001b[0m\u001b[0mproba\u001b[0m\u001b[0;34m)\u001b[0m \u001b[0;31m# original DSEA reconstruction\u001b[0m\u001b[0;34m\u001b[0m\u001b[0;34m\u001b[0m\u001b[0m\n\u001b[1;32m    123\u001b[0m         f, alphak = _dsea_step(\n",
      "\u001b[0;32m/mnt/c/Users/janja/Desktop/DSEA/CherenkovDeconvolution.py/cherenkovdeconvolution/methods/dsea.py\u001b[0m in \u001b[0;36m_train_and_predict_proba\u001b[0;34m(classifier, X_data, X_train, y_train, w_train)\u001b[0m\n\u001b[1;32m    160\u001b[0m \u001b[0;31m# train and apply the classifier to obtain a matrix of confidence values\u001b[0m\u001b[0;34m\u001b[0m\u001b[0;34m\u001b[0m\u001b[0;34m\u001b[0m\u001b[0m\n\u001b[1;32m    161\u001b[0m \u001b[0;32mdef\u001b[0m \u001b[0m_train_and_predict_proba\u001b[0m\u001b[0;34m(\u001b[0m\u001b[0mclassifier\u001b[0m\u001b[0;34m,\u001b[0m \u001b[0mX_data\u001b[0m\u001b[0;34m,\u001b[0m \u001b[0mX_train\u001b[0m\u001b[0;34m,\u001b[0m \u001b[0my_train\u001b[0m\u001b[0;34m,\u001b[0m \u001b[0mw_train\u001b[0m\u001b[0;34m)\u001b[0m\u001b[0;34m:\u001b[0m\u001b[0;34m\u001b[0m\u001b[0;34m\u001b[0m\u001b[0m\n\u001b[0;32m--> 162\u001b[0;31m     \u001b[0mclassifier\u001b[0m\u001b[0;34m.\u001b[0m\u001b[0mfit\u001b[0m\u001b[0;34m(\u001b[0m\u001b[0mX_train\u001b[0m\u001b[0;34m,\u001b[0m \u001b[0my_train\u001b[0m\u001b[0;34m,\u001b[0m \u001b[0mw_train\u001b[0m\u001b[0;34m)\u001b[0m\u001b[0;34m\u001b[0m\u001b[0;34m\u001b[0m\u001b[0m\n\u001b[0m\u001b[1;32m    163\u001b[0m     \u001b[0;32mreturn\u001b[0m \u001b[0mclassifier\u001b[0m\u001b[0;34m.\u001b[0m\u001b[0mpredict_proba\u001b[0m\u001b[0;34m(\u001b[0m\u001b[0mX_data\u001b[0m\u001b[0;34m)\u001b[0m\u001b[0;34m\u001b[0m\u001b[0;34m\u001b[0m\u001b[0m\n\u001b[1;32m    164\u001b[0m \u001b[0;34m\u001b[0m\u001b[0m\n",
      "\u001b[0;32m~/.local/anaconda3/lib/python3.8/site-packages/sklearn/ensemble/_forest.py\u001b[0m in \u001b[0;36mfit\u001b[0;34m(self, X, y, sample_weight)\u001b[0m\n\u001b[1;32m    384\u001b[0m             \u001b[0;31m# parallel_backend contexts set at a higher level,\u001b[0m\u001b[0;34m\u001b[0m\u001b[0;34m\u001b[0m\u001b[0;34m\u001b[0m\u001b[0m\n\u001b[1;32m    385\u001b[0m             \u001b[0;31m# since correctness does not rely on using threads.\u001b[0m\u001b[0;34m\u001b[0m\u001b[0;34m\u001b[0m\u001b[0;34m\u001b[0m\u001b[0m\n\u001b[0;32m--> 386\u001b[0;31m             trees = Parallel(n_jobs=self.n_jobs, verbose=self.verbose,\n\u001b[0m\u001b[1;32m    387\u001b[0m                              \u001b[0;34m**\u001b[0m\u001b[0m_joblib_parallel_args\u001b[0m\u001b[0;34m(\u001b[0m\u001b[0mprefer\u001b[0m\u001b[0;34m=\u001b[0m\u001b[0;34m'threads'\u001b[0m\u001b[0;34m)\u001b[0m\u001b[0;34m)\u001b[0m\u001b[0;34m(\u001b[0m\u001b[0;34m\u001b[0m\u001b[0;34m\u001b[0m\u001b[0m\n\u001b[1;32m    388\u001b[0m                 delayed(_parallel_build_trees)(\n",
      "\u001b[0;32m~/.local/anaconda3/lib/python3.8/site-packages/joblib/parallel.py\u001b[0m in \u001b[0;36m__call__\u001b[0;34m(self, iterable)\u001b[0m\n\u001b[1;32m   1049\u001b[0m                 \u001b[0mself\u001b[0m\u001b[0;34m.\u001b[0m\u001b[0m_iterating\u001b[0m \u001b[0;34m=\u001b[0m \u001b[0mself\u001b[0m\u001b[0;34m.\u001b[0m\u001b[0m_original_iterator\u001b[0m \u001b[0;32mis\u001b[0m \u001b[0;32mnot\u001b[0m \u001b[0;32mNone\u001b[0m\u001b[0;34m\u001b[0m\u001b[0;34m\u001b[0m\u001b[0m\n\u001b[1;32m   1050\u001b[0m \u001b[0;34m\u001b[0m\u001b[0m\n\u001b[0;32m-> 1051\u001b[0;31m             \u001b[0;32mwhile\u001b[0m \u001b[0mself\u001b[0m\u001b[0;34m.\u001b[0m\u001b[0mdispatch_one_batch\u001b[0m\u001b[0;34m(\u001b[0m\u001b[0miterator\u001b[0m\u001b[0;34m)\u001b[0m\u001b[0;34m:\u001b[0m\u001b[0;34m\u001b[0m\u001b[0;34m\u001b[0m\u001b[0m\n\u001b[0m\u001b[1;32m   1052\u001b[0m                 \u001b[0;32mpass\u001b[0m\u001b[0;34m\u001b[0m\u001b[0;34m\u001b[0m\u001b[0m\n\u001b[1;32m   1053\u001b[0m \u001b[0;34m\u001b[0m\u001b[0m\n",
      "\u001b[0;32m~/.local/anaconda3/lib/python3.8/site-packages/joblib/parallel.py\u001b[0m in \u001b[0;36mdispatch_one_batch\u001b[0;34m(self, iterator)\u001b[0m\n\u001b[1;32m    864\u001b[0m                 \u001b[0;32mreturn\u001b[0m \u001b[0;32mFalse\u001b[0m\u001b[0;34m\u001b[0m\u001b[0;34m\u001b[0m\u001b[0m\n\u001b[1;32m    865\u001b[0m             \u001b[0;32melse\u001b[0m\u001b[0;34m:\u001b[0m\u001b[0;34m\u001b[0m\u001b[0;34m\u001b[0m\u001b[0m\n\u001b[0;32m--> 866\u001b[0;31m                 \u001b[0mself\u001b[0m\u001b[0;34m.\u001b[0m\u001b[0m_dispatch\u001b[0m\u001b[0;34m(\u001b[0m\u001b[0mtasks\u001b[0m\u001b[0;34m)\u001b[0m\u001b[0;34m\u001b[0m\u001b[0;34m\u001b[0m\u001b[0m\n\u001b[0m\u001b[1;32m    867\u001b[0m                 \u001b[0;32mreturn\u001b[0m \u001b[0;32mTrue\u001b[0m\u001b[0;34m\u001b[0m\u001b[0;34m\u001b[0m\u001b[0m\n\u001b[1;32m    868\u001b[0m \u001b[0;34m\u001b[0m\u001b[0m\n",
      "\u001b[0;32m~/.local/anaconda3/lib/python3.8/site-packages/joblib/parallel.py\u001b[0m in \u001b[0;36m_dispatch\u001b[0;34m(self, batch)\u001b[0m\n\u001b[1;32m    782\u001b[0m         \u001b[0;32mwith\u001b[0m \u001b[0mself\u001b[0m\u001b[0;34m.\u001b[0m\u001b[0m_lock\u001b[0m\u001b[0;34m:\u001b[0m\u001b[0;34m\u001b[0m\u001b[0;34m\u001b[0m\u001b[0m\n\u001b[1;32m    783\u001b[0m             \u001b[0mjob_idx\u001b[0m \u001b[0;34m=\u001b[0m \u001b[0mlen\u001b[0m\u001b[0;34m(\u001b[0m\u001b[0mself\u001b[0m\u001b[0;34m.\u001b[0m\u001b[0m_jobs\u001b[0m\u001b[0;34m)\u001b[0m\u001b[0;34m\u001b[0m\u001b[0;34m\u001b[0m\u001b[0m\n\u001b[0;32m--> 784\u001b[0;31m             \u001b[0mjob\u001b[0m \u001b[0;34m=\u001b[0m \u001b[0mself\u001b[0m\u001b[0;34m.\u001b[0m\u001b[0m_backend\u001b[0m\u001b[0;34m.\u001b[0m\u001b[0mapply_async\u001b[0m\u001b[0;34m(\u001b[0m\u001b[0mbatch\u001b[0m\u001b[0;34m,\u001b[0m \u001b[0mcallback\u001b[0m\u001b[0;34m=\u001b[0m\u001b[0mcb\u001b[0m\u001b[0;34m)\u001b[0m\u001b[0;34m\u001b[0m\u001b[0;34m\u001b[0m\u001b[0m\n\u001b[0m\u001b[1;32m    785\u001b[0m             \u001b[0;31m# A job can complete so quickly than its callback is\u001b[0m\u001b[0;34m\u001b[0m\u001b[0;34m\u001b[0m\u001b[0;34m\u001b[0m\u001b[0m\n\u001b[1;32m    786\u001b[0m             \u001b[0;31m# called before we get here, causing self._jobs to\u001b[0m\u001b[0;34m\u001b[0m\u001b[0;34m\u001b[0m\u001b[0;34m\u001b[0m\u001b[0m\n",
      "\u001b[0;32m~/.local/anaconda3/lib/python3.8/site-packages/joblib/_parallel_backends.py\u001b[0m in \u001b[0;36mapply_async\u001b[0;34m(self, func, callback)\u001b[0m\n\u001b[1;32m    206\u001b[0m     \u001b[0;32mdef\u001b[0m \u001b[0mapply_async\u001b[0m\u001b[0;34m(\u001b[0m\u001b[0mself\u001b[0m\u001b[0;34m,\u001b[0m \u001b[0mfunc\u001b[0m\u001b[0;34m,\u001b[0m \u001b[0mcallback\u001b[0m\u001b[0;34m=\u001b[0m\u001b[0;32mNone\u001b[0m\u001b[0;34m)\u001b[0m\u001b[0;34m:\u001b[0m\u001b[0;34m\u001b[0m\u001b[0;34m\u001b[0m\u001b[0m\n\u001b[1;32m    207\u001b[0m         \u001b[0;34m\"\"\"Schedule a func to be run\"\"\"\u001b[0m\u001b[0;34m\u001b[0m\u001b[0;34m\u001b[0m\u001b[0m\n\u001b[0;32m--> 208\u001b[0;31m         \u001b[0mresult\u001b[0m \u001b[0;34m=\u001b[0m \u001b[0mImmediateResult\u001b[0m\u001b[0;34m(\u001b[0m\u001b[0mfunc\u001b[0m\u001b[0;34m)\u001b[0m\u001b[0;34m\u001b[0m\u001b[0;34m\u001b[0m\u001b[0m\n\u001b[0m\u001b[1;32m    209\u001b[0m         \u001b[0;32mif\u001b[0m \u001b[0mcallback\u001b[0m\u001b[0;34m:\u001b[0m\u001b[0;34m\u001b[0m\u001b[0;34m\u001b[0m\u001b[0m\n\u001b[1;32m    210\u001b[0m             \u001b[0mcallback\u001b[0m\u001b[0;34m(\u001b[0m\u001b[0mresult\u001b[0m\u001b[0;34m)\u001b[0m\u001b[0;34m\u001b[0m\u001b[0;34m\u001b[0m\u001b[0m\n",
      "\u001b[0;32m~/.local/anaconda3/lib/python3.8/site-packages/joblib/_parallel_backends.py\u001b[0m in \u001b[0;36m__init__\u001b[0;34m(self, batch)\u001b[0m\n\u001b[1;32m    570\u001b[0m         \u001b[0;31m# Don't delay the application, to avoid keeping the input\u001b[0m\u001b[0;34m\u001b[0m\u001b[0;34m\u001b[0m\u001b[0;34m\u001b[0m\u001b[0m\n\u001b[1;32m    571\u001b[0m         \u001b[0;31m# arguments in memory\u001b[0m\u001b[0;34m\u001b[0m\u001b[0;34m\u001b[0m\u001b[0;34m\u001b[0m\u001b[0m\n\u001b[0;32m--> 572\u001b[0;31m         \u001b[0mself\u001b[0m\u001b[0;34m.\u001b[0m\u001b[0mresults\u001b[0m \u001b[0;34m=\u001b[0m \u001b[0mbatch\u001b[0m\u001b[0;34m(\u001b[0m\u001b[0;34m)\u001b[0m\u001b[0;34m\u001b[0m\u001b[0;34m\u001b[0m\u001b[0m\n\u001b[0m\u001b[1;32m    573\u001b[0m \u001b[0;34m\u001b[0m\u001b[0m\n\u001b[1;32m    574\u001b[0m     \u001b[0;32mdef\u001b[0m \u001b[0mget\u001b[0m\u001b[0;34m(\u001b[0m\u001b[0mself\u001b[0m\u001b[0;34m)\u001b[0m\u001b[0;34m:\u001b[0m\u001b[0;34m\u001b[0m\u001b[0;34m\u001b[0m\u001b[0m\n",
      "\u001b[0;32m~/.local/anaconda3/lib/python3.8/site-packages/joblib/parallel.py\u001b[0m in \u001b[0;36m__call__\u001b[0;34m(self)\u001b[0m\n\u001b[1;32m    260\u001b[0m         \u001b[0;31m# change the default number of processes to -1\u001b[0m\u001b[0;34m\u001b[0m\u001b[0;34m\u001b[0m\u001b[0;34m\u001b[0m\u001b[0m\n\u001b[1;32m    261\u001b[0m         \u001b[0;32mwith\u001b[0m \u001b[0mparallel_backend\u001b[0m\u001b[0;34m(\u001b[0m\u001b[0mself\u001b[0m\u001b[0;34m.\u001b[0m\u001b[0m_backend\u001b[0m\u001b[0;34m,\u001b[0m \u001b[0mn_jobs\u001b[0m\u001b[0;34m=\u001b[0m\u001b[0mself\u001b[0m\u001b[0;34m.\u001b[0m\u001b[0m_n_jobs\u001b[0m\u001b[0;34m)\u001b[0m\u001b[0;34m:\u001b[0m\u001b[0;34m\u001b[0m\u001b[0;34m\u001b[0m\u001b[0m\n\u001b[0;32m--> 262\u001b[0;31m             return [func(*args, **kwargs)\n\u001b[0m\u001b[1;32m    263\u001b[0m                     for func, args, kwargs in self.items]\n\u001b[1;32m    264\u001b[0m \u001b[0;34m\u001b[0m\u001b[0m\n",
      "\u001b[0;32m~/.local/anaconda3/lib/python3.8/site-packages/joblib/parallel.py\u001b[0m in \u001b[0;36m<listcomp>\u001b[0;34m(.0)\u001b[0m\n\u001b[1;32m    260\u001b[0m         \u001b[0;31m# change the default number of processes to -1\u001b[0m\u001b[0;34m\u001b[0m\u001b[0;34m\u001b[0m\u001b[0;34m\u001b[0m\u001b[0m\n\u001b[1;32m    261\u001b[0m         \u001b[0;32mwith\u001b[0m \u001b[0mparallel_backend\u001b[0m\u001b[0;34m(\u001b[0m\u001b[0mself\u001b[0m\u001b[0;34m.\u001b[0m\u001b[0m_backend\u001b[0m\u001b[0;34m,\u001b[0m \u001b[0mn_jobs\u001b[0m\u001b[0;34m=\u001b[0m\u001b[0mself\u001b[0m\u001b[0;34m.\u001b[0m\u001b[0m_n_jobs\u001b[0m\u001b[0;34m)\u001b[0m\u001b[0;34m:\u001b[0m\u001b[0;34m\u001b[0m\u001b[0;34m\u001b[0m\u001b[0m\n\u001b[0;32m--> 262\u001b[0;31m             return [func(*args, **kwargs)\n\u001b[0m\u001b[1;32m    263\u001b[0m                     for func, args, kwargs in self.items]\n\u001b[1;32m    264\u001b[0m \u001b[0;34m\u001b[0m\u001b[0m\n",
      "\u001b[0;32m~/.local/anaconda3/lib/python3.8/site-packages/sklearn/ensemble/_forest.py\u001b[0m in \u001b[0;36m_parallel_build_trees\u001b[0;34m(tree, forest, X, y, sample_weight, tree_idx, n_trees, verbose, class_weight, n_samples_bootstrap)\u001b[0m\n\u001b[1;32m    166\u001b[0m                                                         indices=indices)\n\u001b[1;32m    167\u001b[0m \u001b[0;34m\u001b[0m\u001b[0m\n\u001b[0;32m--> 168\u001b[0;31m         \u001b[0mtree\u001b[0m\u001b[0;34m.\u001b[0m\u001b[0mfit\u001b[0m\u001b[0;34m(\u001b[0m\u001b[0mX\u001b[0m\u001b[0;34m,\u001b[0m \u001b[0my\u001b[0m\u001b[0;34m,\u001b[0m \u001b[0msample_weight\u001b[0m\u001b[0;34m=\u001b[0m\u001b[0mcurr_sample_weight\u001b[0m\u001b[0;34m,\u001b[0m \u001b[0mcheck_input\u001b[0m\u001b[0;34m=\u001b[0m\u001b[0;32mFalse\u001b[0m\u001b[0;34m)\u001b[0m\u001b[0;34m\u001b[0m\u001b[0;34m\u001b[0m\u001b[0m\n\u001b[0m\u001b[1;32m    169\u001b[0m     \u001b[0;32melse\u001b[0m\u001b[0;34m:\u001b[0m\u001b[0;34m\u001b[0m\u001b[0;34m\u001b[0m\u001b[0m\n\u001b[1;32m    170\u001b[0m         \u001b[0mtree\u001b[0m\u001b[0;34m.\u001b[0m\u001b[0mfit\u001b[0m\u001b[0;34m(\u001b[0m\u001b[0mX\u001b[0m\u001b[0;34m,\u001b[0m \u001b[0my\u001b[0m\u001b[0;34m,\u001b[0m \u001b[0msample_weight\u001b[0m\u001b[0;34m=\u001b[0m\u001b[0msample_weight\u001b[0m\u001b[0;34m,\u001b[0m \u001b[0mcheck_input\u001b[0m\u001b[0;34m=\u001b[0m\u001b[0;32mFalse\u001b[0m\u001b[0;34m)\u001b[0m\u001b[0;34m\u001b[0m\u001b[0;34m\u001b[0m\u001b[0m\n",
      "\u001b[0;32m~/.local/anaconda3/lib/python3.8/site-packages/sklearn/tree/_classes.py\u001b[0m in \u001b[0;36mfit\u001b[0;34m(self, X, y, sample_weight, check_input, X_idx_sorted)\u001b[0m\n\u001b[1;32m    888\u001b[0m         \"\"\"\n\u001b[1;32m    889\u001b[0m \u001b[0;34m\u001b[0m\u001b[0m\n\u001b[0;32m--> 890\u001b[0;31m         super().fit(\n\u001b[0m\u001b[1;32m    891\u001b[0m             \u001b[0mX\u001b[0m\u001b[0;34m,\u001b[0m \u001b[0my\u001b[0m\u001b[0;34m,\u001b[0m\u001b[0;34m\u001b[0m\u001b[0;34m\u001b[0m\u001b[0m\n\u001b[1;32m    892\u001b[0m             \u001b[0msample_weight\u001b[0m\u001b[0;34m=\u001b[0m\u001b[0msample_weight\u001b[0m\u001b[0;34m,\u001b[0m\u001b[0;34m\u001b[0m\u001b[0;34m\u001b[0m\u001b[0m\n",
      "\u001b[0;32m~/.local/anaconda3/lib/python3.8/site-packages/sklearn/tree/_classes.py\u001b[0m in \u001b[0;36mfit\u001b[0;34m(self, X, y, sample_weight, check_input, X_idx_sorted)\u001b[0m\n\u001b[1;32m    373\u001b[0m                                            min_impurity_split)\n\u001b[1;32m    374\u001b[0m \u001b[0;34m\u001b[0m\u001b[0m\n\u001b[0;32m--> 375\u001b[0;31m         \u001b[0mbuilder\u001b[0m\u001b[0;34m.\u001b[0m\u001b[0mbuild\u001b[0m\u001b[0;34m(\u001b[0m\u001b[0mself\u001b[0m\u001b[0;34m.\u001b[0m\u001b[0mtree_\u001b[0m\u001b[0;34m,\u001b[0m \u001b[0mX\u001b[0m\u001b[0;34m,\u001b[0m \u001b[0my\u001b[0m\u001b[0;34m,\u001b[0m \u001b[0msample_weight\u001b[0m\u001b[0;34m,\u001b[0m \u001b[0mX_idx_sorted\u001b[0m\u001b[0;34m)\u001b[0m\u001b[0;34m\u001b[0m\u001b[0;34m\u001b[0m\u001b[0m\n\u001b[0m\u001b[1;32m    376\u001b[0m \u001b[0;34m\u001b[0m\u001b[0m\n\u001b[1;32m    377\u001b[0m         \u001b[0;32mif\u001b[0m \u001b[0mself\u001b[0m\u001b[0;34m.\u001b[0m\u001b[0mn_outputs_\u001b[0m \u001b[0;34m==\u001b[0m \u001b[0;36m1\u001b[0m \u001b[0;32mand\u001b[0m \u001b[0mis_classifier\u001b[0m\u001b[0;34m(\u001b[0m\u001b[0mself\u001b[0m\u001b[0;34m)\u001b[0m\u001b[0;34m:\u001b[0m\u001b[0;34m\u001b[0m\u001b[0;34m\u001b[0m\u001b[0m\n",
      "\u001b[0;31mKeyboardInterrupt\u001b[0m: "
     ]
    }
   ],
   "source": [
    "#Random Forrest with transformed data+limited energy\n",
    "def inspect_alpha(k, alpha, chi2s, f):\n",
    "    print(alpha)\n",
    "\n",
    "\n",
    "alpha_mul = stepsize.decay_mul(0.5)\n",
    "f_RF_mul, contr_RF = dsea(X_btest, X_btrain, Y_train, RandomForestClassifier(), K = 30, inspect = inspect_alpha, alpha = alpha_mul,return_contributions = True)\n",
    "print('Chi square distance between f_est and f_true: {}'.format(util.chi2s(f_AT_mul, f_true)))\n",
    "plt.hist(bin_centers, bins = binning_E[0:13], weights = f_true, alpha = 0.5,label ='f_true')\n",
    "plt.hist(bin_centers, bins = binning_E[0:13], weights = f_AT_mul, alpha = 0.5,histtype = 'step',label='f_AT')\n",
    "plt.gca().set_xscale('log')\n",
    "plt.yscale('log')\n",
    "plt.xlabel('Energy/GeV')\n",
    "plt.legend(loc='best')\n",
    "plt.show()"
   ]
  },
  {
   "cell_type": "code",
   "execution_count": null,
   "metadata": {},
   "outputs": [],
   "source": [
    "f_RF_mul"
   ]
  },
  {
   "cell_type": "code",
   "execution_count": 14,
   "metadata": {},
   "outputs": [
    {
     "data": {
      "text/plain": [
       "array([0.04078, 0.1021 , 0.13716, 0.1402 , 0.12874, 0.10904, 0.0886 ,\n",
       "       0.06858, 0.05218, 0.03878, 0.02664, 0.0196 , 0.0476 ])"
      ]
     },
     "execution_count": 14,
     "metadata": {},
     "output_type": "execute_result"
    }
   ],
   "source": [
    "#limiting the energy further to 1e4 GeV\n",
    "#mathis did that in his master thesis\n",
    "Y = df['MCPrimary.energy']\n",
    "binning_E = np.logspace(np.log10(Y.min()-10),# creating 12 bins for the energy \n",
    "np.log10(1e4), 13)    #limiting my energy to 1e5 GeV\n",
    "#Binning overflow & underflow manually\n",
    "overflow = 1e9\n",
    "bins_over = np.append(binning_E,overflow)\n",
    "binning_E = bins_over\n",
    "\n",
    "Y = np.digitize(Y, binning_E)  \n",
    "\n",
    "Y = Y - 1\n",
    "\n",
    "bin_1=[i for i in binning_E[:-1]]\n",
    "bin_2=[i for i in binning_E[1:]]\n",
    "bin_centers = np.mean([bin_1, bin_2], axis=0)\n",
    "#n_test = int(len(df)/10)\n",
    "\n",
    "\n",
    "Y_train = Y[n_test:]\n",
    "\n",
    "\n",
    "Y_test = Y[:n_test]\n",
    "\n",
    "f_true = util.fit_pdf(Y_test) \n",
    "f_true\n"
   ]
  },
  {
   "cell_type": "code",
   "execution_count": 15,
   "metadata": {},
   "outputs": [],
   "source": [
    "#logistic AT with decaying stepsize(transformed data)\n",
    "def inspect_alpha(k, alpha, chi2s, f):\n",
    "    print(alpha)\n",
    "\n",
    "\n",
    "alpha_mul = stepsize.decay_mul(0.5)\n",
    "f_AT_mul = dsea(X_btest, X_btrain, Y_train, LogisticAT(), K = 3, inspect = inspect_alpha, alpha = alpha_mul)"
   ]
  },
  {
   "cell_type": "code",
   "execution_count": 17,
   "metadata": {},
   "outputs": [
    {
     "name": "stdout",
     "output_type": "stream",
     "text": [
      "Chi square distance between f_est and f_true: 0.12625950965379784\n"
     ]
    }
   ],
   "source": [
    "print('Chi square distance between f_est and f_true: {}'.format(util.chi2s(f_AT_mul, f_true)))"
   ]
  },
  {
   "cell_type": "code",
   "execution_count": 16,
   "metadata": {},
   "outputs": [
    {
     "data": {
      "image/png": "[encoded data removed]",
      "text/plain": [
       "<Figure size 432x288 with 1 Axes>"
      ]
     },
     "metadata": {
      "needs_background": "light"
     },
     "output_type": "display_data"
    }
   ],
   "source": [
    "plt.hist(bin_centers, bins = binning_E[0:13], weights = f_true, alpha = 0.5,label ='f_true')\n",
    "plt.hist(bin_centers, bins = binning_E[0:13], weights = f_AT_mul, alpha = 0.5,histtype = 'step',label='f_AT')\n",
    "plt.gca().set_xscale('log')\n",
    "plt.yscale('log')\n",
    "plt.xlabel('Energy/GeV')\n",
    "plt.legend(loc='best')\n",
    "plt.show()"
   ]
  },
  {
   "cell_type": "code",
   "execution_count": 18,
   "metadata": {},
   "outputs": [
    {
     "name": "stdout",
     "output_type": "stream",
     "text": [
      "0\n",
      "1\n",
      "2\n",
      "3\n",
      "4\n",
      "5\n",
      "6\n",
      "7\n",
      "8\n",
      "9\n",
      "10\n",
      "Chi square distance between f_est and f_true: 0.0654393329080982\n"
     ]
    },
    {
     "data": {
      "image/png": "[encoded data removed]",
      "text/plain": [
       "<Figure size 432x288 with 1 Axes>"
      ]
     },
     "metadata": {
      "needs_background": "light"
     },
     "output_type": "display_data"
    }
   ],
   "source": [
    "#logistic AT with decaying stepsize+more iterations(transformed data)\n",
    "def inspect_alpha(k, alpha, chi2s, f):\n",
    "    print(alpha)\n",
    "\n",
    "\n",
    "alpha_mul = stepsize.decay_mul(0.5)\n",
    "f_AT_mul = dsea(X_btest, X_btrain, Y_train, LogisticAT(), K = 10, inspect = inspect_alpha, alpha = alpha_mul)\n",
    "print('Chi square distance between f_est and f_true: {}'.format(util.chi2s(f_AT_mul, f_true)))\n",
    "plt.hist(bin_centers, bins = binning_E[0:13], weights = f_true, alpha = 0.5,label ='f_true')\n",
    "plt.hist(bin_centers, bins = binning_E[0:13], weights = f_AT_mul, alpha = 0.5,histtype = 'step',label='f_AT')\n",
    "plt.gca().set_xscale('log')\n",
    "plt.yscale('log')\n",
    "plt.xlabel('Energy/GeV')\n",
    "plt.legend(loc='best')\n",
    "plt.show()"
   ]
  },
  {
   "cell_type": "code",
   "execution_count": 3,
   "metadata": {},
   "outputs": [],
   "source": [
    "#running the full set\n",
    "df=pd.read_csv('sample.csv')\n",
    "X = df[['SplineMPEDirectHitsICE.n_dir_doms',\n",
    "        'VariousVariables.Cone_Angle',\n",
    "        'SplineMPECramerRaoParams.variance_theta',\n",
    "        'Borderness.Q_ratio_in_border',\n",
    "        'SplineMPETruncatedEnergy_SPICEMie_BINS_MuEres.value',\n",
    "        #'SplineMPETruncatesEnergy_SPICEMie_DOMS_Neutrino.energy', That feature is not in my MC\n",
    "        'SplineMPEDirectHitsICB.n_late_doms',\n",
    "        'Dustyness.n_doms_in_dust',\n",
    "        'LineFitGeoSplit1Params.n_hits',\n",
    "        'SplineMPEDirectHitsICC.dir_track_hit_distribution_smoothness',\n",
    "        'SPEFit2GeoSplit1BayesianFitParams.logl',\n",
    "        'SplineMPECharacteristicsIC.avg_dom_dist_q_tot_dom']]\n",
    "Y = df['MCPrimary.energy']"
   ]
  },
  {
   "cell_type": "code",
   "execution_count": 4,
   "metadata": {},
   "outputs": [
    {
     "data": {
      "text/plain": [
       "array([2.71180035e-01, 3.79863201e-01, 2.10853320e-01, 8.76662183e-02,\n",
       "       3.29302254e-02, 1.16365910e-02, 3.92835237e-03, 1.30920085e-03,\n",
       "       4.31151482e-04, 1.50715561e-04, 3.59917759e-05, 1.49965733e-05])"
      ]
     },
     "execution_count": 4,
     "metadata": {},
     "output_type": "execute_result"
    }
   ],
   "source": [
    "binning_E = np.logspace(np.log10(Y.min()-10),\n",
    "np.log10(Y.max()+100), 13)    # creating 12 bins for the energy \n",
    "#Binning overflow & underflow manually\n",
    "#overflow = 1e10\n",
    "#bins_over = np.append(binning_E,overflow)\n",
    "#binning_E = bins_over\n",
    "\n",
    "Y = np.digitize(Y, binning_E)  \n",
    "\n",
    "Y = Y - 1\n",
    "\n",
    "bin_1=[i for i in binning_E[:-1]]\n",
    "bin_2=[i for i in binning_E[1:]]\n",
    "bin_centers = np.mean([bin_1, bin_2], axis=0)\n",
    "n_test = int(len(df)/10)\n",
    "\n",
    "X_train = X.iloc[n_test:]#splitting the dataframe\n",
    "Y_train = Y[n_test:]\n",
    "\n",
    "X_test = X.iloc[:n_test]\n",
    "Y_test = Y[:n_test]\n",
    "\n",
    "f_true = util.fit_pdf(Y_test) \n",
    "f_true"
   ]
  },
  {
   "cell_type": "code",
   "execution_count": 5,
   "metadata": {},
   "outputs": [],
   "source": [
    "#Yeo-Johnson-Transformation\n",
    "X_box= power_transform(X, method='yeo-johnson')    \n",
    "X_btrain = X_box[n_test:]#splitting the dataframe\n",
    "X_btest = X_box[:n_test]\n"
   ]
  },
  {
   "cell_type": "code",
   "execution_count": 6,
   "metadata": {},
   "outputs": [
    {
     "name": "stdout",
     "output_type": "stream",
     "text": [
      "0\n",
      "1\n",
      "3\n"
     ]
    },
    {
     "data": {
      "image/png": "[encoded data removed]",
      "text/plain": [
       "<Figure size 432x288 with 1 Axes>"
      ]
     },
     "metadata": {
      "needs_background": "light"
     },
     "output_type": "display_data"
    }
   ],
   "source": [
    "#logistic AT with decaying stepsize(transformed data)\n",
    "def inspect_alpha(k, alpha, chi2s, f):\n",
    "    print(alpha)\n",
    "\n",
    "\n",
    "alpha_mul = stepsize.decay_mul(0.5)\n",
    "f_AT_mul,contr = dsea(X_btest, X_btrain, Y_train, LogisticAT(), K = 3, inspect = inspect_alpha, alpha = alpha_mul,return_contributions = True)\n",
    "plt.hist(bin_centers, bins = binning_E, weights = f_true, alpha = 0.5,label ='f_true')\n",
    "plt.hist(bin_centers, bins = binning_E, weights = f_AT_mul, alpha = 0.5,histtype = 'step',label='f_AT')\n",
    "plt.gca().set_xscale('log')\n",
    "plt.yscale('log')\n",
    "plt.xlabel('Energy/GeV')\n",
    "plt.legend(loc='best')\n",
    "plt.show()"
   ]
  },
  {
   "cell_type": "code",
   "execution_count": 7,
   "metadata": {},
   "outputs": [
    {
     "name": "stdout",
     "output_type": "stream",
     "text": [
      "Chi square distance between f_est and f_true: 0.23316544574310885\n"
     ]
    }
   ],
   "source": [
    "print('Chi square distance between f_est and f_true: {}'.format(util.chi2s(f_AT_mul, f_true)))"
   ]
  },
  {
   "cell_type": "code",
   "execution_count": 6,
   "metadata": {},
   "outputs": [],
   "source": [
    "#calculating the wasserstein distance\n",
    "from scipy.stats import wasserstein_distance\n",
    "#saving the pdf's in variables\n",
    "f_true=([2.5592e-01, 3.6756e-01, 2.1952e-01, 9.6880e-02, 3.8640e-02,\n",
    "       1.4100e-02, 4.6800e-03, 1.6600e-03, 6.8000e-04, 2.4000e-04,\n",
    "       8.0000e-05, 4.0000e-05])\n",
    "f_ut=([5.23479943e-01, 1.78399880e-02, 2.05062784e-01, 1.83690549e-02,\n",
    "       1.71428375e-01, 5.26188668e-02, 5.45257357e-03, 2.29334111e-03,\n",
    "       5.13059360e-04, 2.85618523e-03, 4.32283994e-05, 4.26008326e-05])\n",
    "f_trafo=([3.02732911e-01, 2.71298607e-01, 1.98476011e-01, 1.19748156e-01,\n",
    "       6.09226564e-02, 2.70453497e-02, 1.12621793e-02, 4.75032649e-03,\n",
    "       2.09163987e-03, 9.69053205e-04, 4.70934228e-04, 2.32175901e-04])\n",
    "f_exp=[0.23521018, 0.23869404, 0.09848941, 0.03544797, 0.01289194,\n",
    "       0.00452991, 0.00164207, 0.05506606, 0.20868728, 0.06741491,\n",
    "       0.02843098, 0.01349524]\n",
    "f_const= [0.30201219, 0.2639576 , 0.19094897, 0.11687106, 0.06241026,\n",
    "       0.0305649 , 0.0148694 , 0.00774736, 0.00445495, 0.00281654,\n",
    "       0.00192916, 0.0014176 ]\n",
    "f_at_mul_10=[3.02054497e-01, 2.84016647e-01, 2.06155001e-01, 1.17298054e-01,\n",
    "       5.46042942e-02, 2.19654845e-02, 8.36555372e-03, 3.25544463e-03,\n",
    "       1.32545428e-03, 5.72695147e-04, 2.62736563e-04, 1.24136418e-04]\n",
    "f_at_mul_15=[2.96959482e-01, 2.96779374e-01, 2.14528172e-01, 1.14718422e-01,\n",
    "       4.88840480e-02, 1.80063917e-02, 6.38040372e-03, 2.30921492e-03,\n",
    "       8.65744936e-04, 3.47614271e-04, 1.50485267e-04, 7.06476923e-05]\n",
    "f_at_mul_20= [2.91851945e-01, 3.04844898e-01, 2.19959889e-01, 1.12921670e-01,\n",
    "       4.56819632e-02, 1.61202433e-02, 5.55424703e-03, 1.93899828e-03,\n",
    "       6.90545994e-04, 2.66310810e-04, 1.12966882e-04, 5.63230722e-05]\n",
    "f_at_mul_30=[2.84134527e-01, 3.14991506e-01, 2.26472064e-01, 1.10276381e-01,\n",
    "       4.21792677e-02, 1.44224257e-02, 4.93589048e-03, 1.67341218e-03,\n",
    "       5.60406534e-04, 2.08508722e-04, 9.06780825e-05, 5.49326398e-05]\n",
    "f_rf_mul_30=[2.51935417e-01, 3.65409209e-01, 2.19064617e-01, 1.00211902e-01,\n",
    "       4.03958012e-02, 1.47860358e-02, 5.43439568e-03, 1.78624042e-03,\n",
    "       6.85137401e-04, 1.84547894e-04, 9.16101038e-05, 1.50866480e-05]\n",
    "f_limited_20=[2.91851945e-01, 3.04844898e-01, 2.19959889e-01, 1.12921670e-01,\n",
    "       4.56819632e-02, 1.61202433e-02, 5.55424703e-03, 1.93899828e-03,\n",
    "       6.90545994e-04, 2.66310810e-04, 1.12966882e-04, 5.63230722e-05]\n",
    "f_limited_30=([0.10886088, 0.1680706 , 0.18816715, 0.16944693, 0.13021582,\n",
    "       0.09021991, 0.05856581, 0.03632342, 0.02173771, 0.01271253,\n",
    "       0.00749548, 0.00468857, 0.00349519])"
   ]
  },
  {
   "cell_type": "code",
   "execution_count": 26,
   "metadata": {},
   "outputs": [
    {
     "name": "stdout",
     "output_type": "stream",
     "text": [
      "Wasserstein distance between f_ut and f_true: 0.027252948500266667\n",
      "Wasserstein distance between f_trafo and f_true: 0.014311846341166671\n",
      "Wasserstein distance between f_exp and f_true: 0.02673474916666667\n",
      "Wasserstein distance between f_const and f_true: 0.015686472500000003\n",
      "Wasserstein distance between f_at_mul_10 and f_true: 0.013145083538166671\n",
      "Wasserstein distance between f_at_mul_15 and f_true: 0.012598724375525\n",
      "Wasserstein distance between f_at_mul_20 and f_true: 0.010452517047350004\n",
      "Wasserstein distance between f_at_mul_30 and f_true: 0.008786596460525008\n",
      "Wasserstein distance between f_rf_mul_30 and f_true: 0.0011118537552333317\n",
      "Wasserstein distance between f_limited_20 and f_true: 0.010452517047350004\n",
      "Wasserstein distance between f_limited_30 and f_true: 0.048206876666666676\n"
     ]
    }
   ],
   "source": [
    "print('Wasserstein distance between f_ut and f_true: {}'.format(wasserstein_distance(f_ut, f_true)))\n",
    "print('Wasserstein distance between f_trafo and f_true: {}'.format(wasserstein_distance(f_trafo, f_true)))\n",
    "print('Wasserstein distance between f_exp and f_true: {}'.format(wasserstein_distance(f_exp, f_true)))\n",
    "print('Wasserstein distance between f_const and f_true: {}'.format(wasserstein_distance(f_const, f_true)))\n",
    "print('Wasserstein distance between f_at_mul_10 and f_true: {}'.format(wasserstein_distance(f_at_mul_10, f_true)))\n",
    "print('Wasserstein distance between f_at_mul_15 and f_true: {}'.format(wasserstein_distance(f_at_mul_15, f_true)))\n",
    "print('Wasserstein distance between f_at_mul_20 and f_true: {}'.format(wasserstein_distance(f_at_mul_20, f_true)))\n",
    "print('Wasserstein distance between f_at_mul_30 and f_true: {}'.format(wasserstein_distance(f_at_mul_30, f_true)))\n",
    "print('Wasserstein distance between f_rf_mul_30 and f_true: {}'.format(wasserstein_distance(f_rf_mul_30, f_true)))\n",
    "print('Wasserstein distance between f_limited_20 and f_true: {}'.format(wasserstein_distance(f_limited_20, f_true)))\n",
    "print('Wasserstein distance between f_limited_30 and f_true: {}'.format(wasserstein_distance(f_limited_30, f_true)))"
   ]
  },
  {
   "cell_type": "code",
   "execution_count": 8,
   "metadata": {},
   "outputs": [
    {
     "name": "stdout",
     "output_type": "stream",
     "text": [
      "[127959.99999999999, 183780.0, 109760.0, 48440.0, 19320.0, 7050.0, 2340.0, 830.0, 340.0, 120.0, 40.0, 20.0]\n",
      "[142067.2635, 157495.753, 113236.032, 55138.190500000004, 21089.633850000002, 7211.21285, 2467.94524, 836.7060899999999, 280.203267, 104.254361, 45.33904125, 27.466319900000002]\n"
     ]
    }
   ],
   "source": [
    "events_true = [i * 500000 for i in f_true]\n",
    "print(events_true)\n",
    "events_at30 = [i * 500000 for i in f_at_mul_30]\n",
    "print(events_at30)"
   ]
  },
  {
   "cell_type": "code",
   "execution_count": 9,
   "metadata": {},
   "outputs": [
    {
     "data": {
      "image/png": "[encoded data removed]",
      "text/plain": [
       "<Figure size 432x288 with 1 Axes>"
      ]
     },
     "metadata": {
      "needs_background": "light"
     },
     "output_type": "display_data"
    }
   ],
   "source": [
    "plt.hist(bin_centers, bins = binning_E, weights = events_true, alpha = 0.5,label ='MC_true')\n",
    "plt.hist(bin_centers, bins = binning_E, weights = events_at30, alpha = 0.5,histtype = 'step',label='reconstruction_AT')\n",
    "plt.gca().set_xscale('log')\n",
    "plt.yscale('log')\n",
    "plt.xlabel('Energy[GeV]')\n",
    "plt.ylabel('Number of Events')\n",
    "plt.legend(loc='best')\n",
    "plt.savefig(\"EventsAT30it.pdf\")"
   ]
  },
  {
   "cell_type": "code",
   "execution_count": 10,
   "metadata": {},
   "outputs": [
    {
     "name": "stdout",
     "output_type": "stream",
     "text": [
      "[54430.439999999995, 84035.29999999999, 94083.575, 84723.465, 65107.91, 45109.955, 29282.905000000002, 18161.710000000003, 10868.855, 6356.264999999999, 3747.74, 2344.2850000000003, 1747.595]\n"
     ]
    }
   ],
   "source": [
    "events_limited_30 = [i * 500000 for i in f_limited_30]\n",
    "print(events_limited_30)"
   ]
  },
  {
   "cell_type": "code",
   "execution_count": null,
   "metadata": {},
   "outputs": [],
   "source": []
  }
 ],
 "metadata": {
  "kernelspec": {
   "display_name": "Python 3",
   "language": "python",
   "name": "python3"
  },
  "language_info": {
   "codemirror_mode": {
    "name": "ipython",
    "version": 3
   },
   "file_extension": ".py",
   "mimetype": "text/x-python",
   "name": "python",
   "nbconvert_exporter": "python",
   "pygments_lexer": "ipython3",
   "version": "3.8.3"
  }
 },
 "nbformat": 4,
 "nbformat_minor": 4
}
